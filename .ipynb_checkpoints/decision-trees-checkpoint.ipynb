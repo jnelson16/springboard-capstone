{
 "cells": [
  {
   "cell_type": "code",
   "execution_count": 1,
   "metadata": {
    "collapsed": true
   },
   "outputs": [],
   "source": [
    "%matplotlib inline\n",
    "import math\n",
    "import pandas as pd\n",
    "import numpy as np\n",
    "import matplotlib.pyplot as plt"
   ]
  },
  {
   "cell_type": "markdown",
   "metadata": {},
   "source": [
    "### What variables are important for teams to win?"
   ]
  },
  {
   "cell_type": "code",
   "execution_count": 202,
   "metadata": {
    "collapsed": true
   },
   "outputs": [],
   "source": [
    "team = pd.read_csv('data/baseball/team.csv')"
   ]
  },
  {
   "cell_type": "code",
   "execution_count": 203,
   "metadata": {
    "collapsed": true
   },
   "outputs": [],
   "source": [
    "team = team[team.year >= 1985]"
   ]
  },
  {
   "cell_type": "code",
   "execution_count": 205,
   "metadata": {
    "collapsed": true
   },
   "outputs": [],
   "source": [
    "team['w_pct'] = team.w / 162\n",
    "team['avg'] = team.h / team.ab\n",
    "team['2b_avg'] = team.double / team.ab\n",
    "team['3b_avg'] = team.triple / team.ab\n",
    "team['hr_avg'] = team.hr / team.ab\n",
    "team['r_avg'] = team.r / team.ab\n",
    "team['so_avg'] = team.so / (162*27)\n",
    "team['era_adj'] = team.era / 27\n",
    "team['e_avg'] = team.e / (162*27)"
   ]
  },
  {
   "cell_type": "code",
   "execution_count": 22,
   "metadata": {
    "collapsed": true
   },
   "outputs": [],
   "source": [
    "from sklearn.model_selection import train_test_split"
   ]
  },
  {
   "cell_type": "code",
   "execution_count": 82,
   "metadata": {},
   "outputs": [
    {
     "data": {
      "text/html": [
       "<div>\n",
       "<style>\n",
       "    .dataframe thead tr:only-child th {\n",
       "        text-align: right;\n",
       "    }\n",
       "\n",
       "    .dataframe thead th {\n",
       "        text-align: left;\n",
       "    }\n",
       "\n",
       "    .dataframe tbody tr th {\n",
       "        vertical-align: top;\n",
       "    }\n",
       "</style>\n",
       "<table border=\"1\" class=\"dataframe\">\n",
       "  <thead>\n",
       "    <tr style=\"text-align: right;\">\n",
       "      <th></th>\n",
       "      <th>w_pct</th>\n",
       "      <th>r_avg</th>\n",
       "      <th>avg</th>\n",
       "      <th>2b_avg</th>\n",
       "      <th>3b_avg</th>\n",
       "      <th>hr_avg</th>\n",
       "      <th>so_avg</th>\n",
       "      <th>era_adj</th>\n",
       "      <th>e_avg</th>\n",
       "    </tr>\n",
       "  </thead>\n",
       "  <tbody>\n",
       "    <tr>\n",
       "      <th>count</th>\n",
       "      <td>888.000000</td>\n",
       "      <td>888.000000</td>\n",
       "      <td>888.000000</td>\n",
       "      <td>888.000000</td>\n",
       "      <td>888.000000</td>\n",
       "      <td>888.000000</td>\n",
       "      <td>888.000000</td>\n",
       "      <td>888.000000</td>\n",
       "      <td>888.000000</td>\n",
       "    </tr>\n",
       "    <tr>\n",
       "      <th>mean</th>\n",
       "      <td>0.493278</td>\n",
       "      <td>0.133540</td>\n",
       "      <td>0.261666</td>\n",
       "      <td>0.050328</td>\n",
       "      <td>0.005683</td>\n",
       "      <td>0.028711</td>\n",
       "      <td>0.236956</td>\n",
       "      <td>0.155800</td>\n",
       "      <td>0.025017</td>\n",
       "    </tr>\n",
       "    <tr>\n",
       "      <th>std</th>\n",
       "      <td>0.073345</td>\n",
       "      <td>0.014543</td>\n",
       "      <td>0.011896</td>\n",
       "      <td>0.005412</td>\n",
       "      <td>0.001638</td>\n",
       "      <td>0.006438</td>\n",
       "      <td>0.035185</td>\n",
       "      <td>0.020758</td>\n",
       "      <td>0.004576</td>\n",
       "    </tr>\n",
       "    <tr>\n",
       "      <th>min</th>\n",
       "      <td>0.265432</td>\n",
       "      <td>0.094146</td>\n",
       "      <td>0.226483</td>\n",
       "      <td>0.035318</td>\n",
       "      <td>0.001977</td>\n",
       "      <td>0.010785</td>\n",
       "      <td>0.129858</td>\n",
       "      <td>0.107778</td>\n",
       "      <td>0.012346</td>\n",
       "    </tr>\n",
       "    <tr>\n",
       "      <th>25%</th>\n",
       "      <td>0.442901</td>\n",
       "      <td>0.123301</td>\n",
       "      <td>0.253077</td>\n",
       "      <td>0.046913</td>\n",
       "      <td>0.004524</td>\n",
       "      <td>0.024078</td>\n",
       "      <td>0.211706</td>\n",
       "      <td>0.140370</td>\n",
       "      <td>0.021719</td>\n",
       "    </tr>\n",
       "    <tr>\n",
       "      <th>50%</th>\n",
       "      <td>0.493827</td>\n",
       "      <td>0.132741</td>\n",
       "      <td>0.261446</td>\n",
       "      <td>0.050326</td>\n",
       "      <td>0.005544</td>\n",
       "      <td>0.028490</td>\n",
       "      <td>0.236740</td>\n",
       "      <td>0.154444</td>\n",
       "      <td>0.024691</td>\n",
       "    </tr>\n",
       "    <tr>\n",
       "      <th>75%</th>\n",
       "      <td>0.549383</td>\n",
       "      <td>0.143036</td>\n",
       "      <td>0.269449</td>\n",
       "      <td>0.054027</td>\n",
       "      <td>0.006717</td>\n",
       "      <td>0.032998</td>\n",
       "      <td>0.259088</td>\n",
       "      <td>0.169630</td>\n",
       "      <td>0.028121</td>\n",
       "    </tr>\n",
       "    <tr>\n",
       "      <th>max</th>\n",
       "      <td>0.716049</td>\n",
       "      <td>0.179091</td>\n",
       "      <td>0.293993</td>\n",
       "      <td>0.065642</td>\n",
       "      <td>0.010836</td>\n",
       "      <td>0.047025</td>\n",
       "      <td>0.350937</td>\n",
       "      <td>0.236296</td>\n",
       "      <td>0.040924</td>\n",
       "    </tr>\n",
       "  </tbody>\n",
       "</table>\n",
       "</div>"
      ],
      "text/plain": [
       "            w_pct       r_avg         avg      2b_avg      3b_avg      hr_avg  \\\n",
       "count  888.000000  888.000000  888.000000  888.000000  888.000000  888.000000   \n",
       "mean     0.493278    0.133540    0.261666    0.050328    0.005683    0.028711   \n",
       "std      0.073345    0.014543    0.011896    0.005412    0.001638    0.006438   \n",
       "min      0.265432    0.094146    0.226483    0.035318    0.001977    0.010785   \n",
       "25%      0.442901    0.123301    0.253077    0.046913    0.004524    0.024078   \n",
       "50%      0.493827    0.132741    0.261446    0.050326    0.005544    0.028490   \n",
       "75%      0.549383    0.143036    0.269449    0.054027    0.006717    0.032998   \n",
       "max      0.716049    0.179091    0.293993    0.065642    0.010836    0.047025   \n",
       "\n",
       "           so_avg     era_adj       e_avg  \n",
       "count  888.000000  888.000000  888.000000  \n",
       "mean     0.236956    0.155800    0.025017  \n",
       "std      0.035185    0.020758    0.004576  \n",
       "min      0.129858    0.107778    0.012346  \n",
       "25%      0.211706    0.140370    0.021719  \n",
       "50%      0.236740    0.154444    0.024691  \n",
       "75%      0.259088    0.169630    0.028121  \n",
       "max      0.350937    0.236296    0.040924  "
      ]
     },
     "execution_count": 82,
     "metadata": {},
     "output_type": "execute_result"
    }
   ],
   "source": [
    "clean = team[['w_pct','r_avg','avg','so_avg','era_adj','e_avg']]\n",
    "clean.describe()"
   ]
  },
  {
   "cell_type": "code",
   "execution_count": 83,
   "metadata": {
    "collapsed": true
   },
   "outputs": [],
   "source": [
    "y = clean.pop('w_pct')"
   ]
  },
  {
   "cell_type": "code",
   "execution_count": 84,
   "metadata": {
    "collapsed": true
   },
   "outputs": [],
   "source": [
    "X = clean"
   ]
  },
  {
   "cell_type": "code",
   "execution_count": 85,
   "metadata": {
    "collapsed": true
   },
   "outputs": [],
   "source": [
    "X_train, X_test, y_train, y_test = train_test_split(X, y, random_state=42)"
   ]
  },
  {
   "cell_type": "code",
   "execution_count": 20,
   "metadata": {
    "collapsed": true
   },
   "outputs": [],
   "source": [
    "from sklearn.tree import DecisionTreeRegressor"
   ]
  },
  {
   "cell_type": "code",
   "execution_count": 21,
   "metadata": {
    "collapsed": true
   },
   "outputs": [],
   "source": [
    "from sklearn.model_selection import cross_val_score\n",
    "from sklearn.metrics import mean_squared_error\n",
    "from sklearn.metrics import r2_score"
   ]
  },
  {
   "cell_type": "code",
   "execution_count": 95,
   "metadata": {},
   "outputs": [
    {
     "data": {
      "text/plain": [
       "DecisionTreeRegressor(criterion='mse', max_depth=6, max_features=None,\n",
       "           max_leaf_nodes=45, min_impurity_decrease=0.0,\n",
       "           min_impurity_split=None, min_samples_leaf=1,\n",
       "           min_samples_split=2, min_weight_fraction_leaf=0.0,\n",
       "           presort=False, random_state=42, splitter='best')"
      ]
     },
     "execution_count": 95,
     "metadata": {},
     "output_type": "execute_result"
    }
   ],
   "source": [
    "tree = DecisionTreeRegressor(max_depth=6, max_leaf_nodes=45, random_state=42)\n",
    "tree.fit(X_train,y_train)"
   ]
  },
  {
   "cell_type": "code",
   "execution_count": 96,
   "metadata": {},
   "outputs": [
    {
     "data": {
      "text/plain": [
       "array([ 0.40301582,  0.00565266,  0.00984362,  0.        ,  0.0050675 ,\n",
       "        0.11041479,  0.45523288,  0.01077273])"
      ]
     },
     "execution_count": 96,
     "metadata": {},
     "output_type": "execute_result"
    }
   ],
   "source": [
    "tree.feature_importances_"
   ]
  },
  {
   "cell_type": "code",
   "execution_count": 97,
   "metadata": {},
   "outputs": [
    {
     "data": {
      "text/plain": [
       "0.58988287487339452"
      ]
     },
     "execution_count": 97,
     "metadata": {},
     "output_type": "execute_result"
    }
   ],
   "source": [
    "cross_val_score(tree, X_train, y_train, cv=5).mean()"
   ]
  },
  {
   "cell_type": "code",
   "execution_count": 94,
   "metadata": {},
   "outputs": [
    {
     "data": {
      "text/plain": [
       "<matplotlib.text.Text at 0x1a22a78748>"
      ]
     },
     "execution_count": 94,
     "metadata": {},
     "output_type": "execute_result"
    },
    {
     "data": {
      "image/png": "[encoded data removed]",
      "text/plain": [
       "<matplotlib.figure.Figure at 0x1a229d0080>"
      ]
     },
     "metadata": {},
     "output_type": "display_data"
    }
   ],
   "source": [
    "score = []\n",
    "test_range = np.arange(41,48,1)\n",
    "for nodes in test_range:\n",
    "    tree = DecisionTreeRegressor(max_depth=6,max_leaf_nodes=nodes)\n",
    "    tree.fit(X_train,y_train)\n",
    "    results = tree.predict(X_test)\n",
    "    score.append(r2_score(y_test, results))\n",
    "plt.plot(test_range,score)\n",
    "plt.xlabel('max_leaf_nodes')\n",
    "plt.ylabel('r2_score')"
   ]
  },
  {
   "cell_type": "markdown",
   "metadata": {},
   "source": [
    "#### Testing other models"
   ]
  },
  {
   "cell_type": "code",
   "execution_count": 21,
   "metadata": {
    "collapsed": true
   },
   "outputs": [],
   "source": [
    "from sklearn.linear_model import LinearRegression\n",
    "from sklearn.linear_model import LassoCV\n",
    "from sklearn.linear_model import RidgeCV\n",
    "from sklearn.svm import LinearSVR\n",
    "from sklearn.svm import SVR"
   ]
  },
  {
   "cell_type": "code",
   "execution_count": 25,
   "metadata": {},
   "outputs": [
    {
     "data": {
      "text/plain": [
       "0.00096494084307589183"
      ]
     },
     "execution_count": 25,
     "metadata": {},
     "output_type": "execute_result"
    }
   ],
   "source": [
    "lin = LinearRegression()\n",
    "lin.fit(X_train,y_train)\n",
    "results = lin.predict(X_test)\n",
    "mean_squared_error(y_test, results)"
   ]
  },
  {
   "cell_type": "code",
   "execution_count": 26,
   "metadata": {},
   "outputs": [
    {
     "data": {
      "text/plain": [
       "0.75370810881994676"
      ]
     },
     "execution_count": 26,
     "metadata": {},
     "output_type": "execute_result"
    }
   ],
   "source": [
    "cross_val_score(lin, X_train, y_train, cv=5).mean()"
   ]
  },
  {
   "cell_type": "code",
   "execution_count": 27,
   "metadata": {},
   "outputs": [
    {
     "data": {
      "text/plain": [
       "0.00095018090825511555"
      ]
     },
     "execution_count": 27,
     "metadata": {},
     "output_type": "execute_result"
    }
   ],
   "source": [
    "lscv = LassoCV(eps=0.004)\n",
    "lscv.fit(X_train,y_train)\n",
    "results = lscv.predict(X_test)\n",
    "mean_squared_error(y_test, results)"
   ]
  },
  {
   "cell_type": "code",
   "execution_count": 46,
   "metadata": {},
   "outputs": [
    {
     "data": {
      "text/plain": [
       "0.75379141136972638"
      ]
     },
     "execution_count": 46,
     "metadata": {},
     "output_type": "execute_result"
    }
   ],
   "source": [
    "cross_val_score(lscv, X_train, y_train, cv=5).mean()"
   ]
  },
  {
   "cell_type": "code",
   "execution_count": 50,
   "metadata": {},
   "outputs": [
    {
     "data": {
      "text/plain": [
       "0.00089563877241167881"
      ]
     },
     "execution_count": 50,
     "metadata": {},
     "output_type": "execute_result"
    }
   ],
   "source": [
    "svr = SVR(C=1000,epsilon=0.039)\n",
    "svr.fit(X_train,y_train)\n",
    "results = svr.predict(X_test)\n",
    "mean_squared_error(y_test, results)"
   ]
  },
  {
   "cell_type": "code",
   "execution_count": 51,
   "metadata": {},
   "outputs": [
    {
     "data": {
      "text/plain": [
       "0.78382367168410805"
      ]
     },
     "execution_count": 51,
     "metadata": {},
     "output_type": "execute_result"
    }
   ],
   "source": [
    "cross_val_score(svr, X_train, y_train, cv=5).mean()"
   ]
  },
  {
   "cell_type": "code",
   "execution_count": 53,
   "metadata": {},
   "outputs": [
    {
     "data": {
      "text/plain": [
       "<matplotlib.text.Text at 0x1a2188a9e8>"
      ]
     },
     "execution_count": 53,
     "metadata": {},
     "output_type": "execute_result"
    },
    {
     "data": {
      "image/png": "[encoded data removed]",
      "text/plain": [
       "<matplotlib.figure.Figure at 0x1a211860f0>"
      ]
     },
     "metadata": {},
     "output_type": "display_data"
    }
   ],
   "source": [
    "score = []\n",
    "test_range = np.arange(0,0.05,0.001)\n",
    "for e in test_range:\n",
    "    svr = SVR(C=1000,epsilon=e)\n",
    "    svr.fit(X_train,y_train)\n",
    "    results = svr.predict(X_test)\n",
    "    score.append(mean_squared_error(y_test, results))\n",
    "plt.plot(test_range,score)\n",
    "plt.xlabel('epsilon parameter')\n",
    "plt.ylabel('mean_squared_error')"
   ]
  },
  {
   "cell_type": "code",
   "execution_count": 52,
   "metadata": {},
   "outputs": [
    {
     "data": {
      "text/plain": [
       "<matplotlib.text.Text at 0x1a218dc518>"
      ]
     },
     "execution_count": 52,
     "metadata": {},
     "output_type": "execute_result"
    },
    {
     "data": {
      "image/png": "[encoded data removed]",
      "text/plain": [
       "<matplotlib.figure.Figure at 0x1a21186a20>"
      ]
     },
     "metadata": {},
     "output_type": "display_data"
    }
   ],
   "source": [
    "score = []\n",
    "test_range = np.arange(0.001,0.01,0.001)\n",
    "for eps in test_range:\n",
    "    lscv = LassoCV(eps=eps)\n",
    "    lscv.fit(X_train,y_train)\n",
    "    results = lscv.predict(X_test)\n",
    "    score.append(mean_squared_error(y_test, results))\n",
    "plt.plot(test_range,score)\n",
    "plt.xlabel('n_alphas')\n",
    "plt.ylabel('mean_squared_error')"
   ]
  },
  {
   "cell_type": "markdown",
   "metadata": {},
   "source": [
    "### What is important for players?"
   ]
  },
  {
   "cell_type": "code",
   "execution_count": 2,
   "metadata": {
    "collapsed": true
   },
   "outputs": [],
   "source": [
    "batting = pd.read_csv('data/baseball/batting.csv')\n",
    "pitching = pd.read_csv('data/baseball/pitching.csv')\n",
    "salary = pd.read_csv('data/baseball/salary.csv')"
   ]
  },
  {
   "cell_type": "code",
   "execution_count": 213,
   "metadata": {
    "collapsed": true
   },
   "outputs": [],
   "source": [
    "batting = batting[(batting.year >= 1985) & (batting.ab > 100)]\n",
    "pitching = pitching[pitching.year >= 1985]"
   ]
  },
  {
   "cell_type": "code",
   "execution_count": 214,
   "metadata": {},
   "outputs": [
    {
     "name": "stdout",
     "output_type": "stream",
     "text": [
      "<class 'pandas.core.frame.DataFrame'>\n",
      "Int64Index: 12936 entries, 62240 to 101330\n",
      "Data columns (total 22 columns):\n",
      "player_id    12936 non-null object\n",
      "year         12936 non-null int64\n",
      "stint        12936 non-null int64\n",
      "team_id      12936 non-null object\n",
      "league_id    12936 non-null object\n",
      "g            12936 non-null int64\n",
      "ab           12936 non-null float64\n",
      "r            12936 non-null float64\n",
      "h            12936 non-null float64\n",
      "double       12936 non-null float64\n",
      "triple       12936 non-null float64\n",
      "hr           12936 non-null float64\n",
      "rbi          12936 non-null float64\n",
      "sb           12936 non-null float64\n",
      "cs           12936 non-null float64\n",
      "bb           12936 non-null float64\n",
      "so           12936 non-null float64\n",
      "ibb          12936 non-null float64\n",
      "hbp          12936 non-null float64\n",
      "sh           12936 non-null float64\n",
      "sf           12936 non-null float64\n",
      "g_idp        12936 non-null float64\n",
      "dtypes: float64(16), int64(3), object(3)\n",
      "memory usage: 2.3+ MB\n"
     ]
    }
   ],
   "source": [
    "batting.info()"
   ]
  },
  {
   "cell_type": "code",
   "execution_count": 5,
   "metadata": {
    "collapsed": true
   },
   "outputs": [],
   "source": [
    "batting['avg'] = batting.h / batting.ab\n",
    "batting['2b_avg'] = batting.double / batting.ab\n",
    "batting['3b_avg'] = batting.triple / batting.ab\n",
    "batting['hr_avg'] = batting.hr / batting.ab\n",
    "batting['r_avg'] = batting.r / batting.ab\n",
    "batting['obp'] = (batting.h + batting.bb + batting.hbp) / (batting.ab + batting.bb + batting.hbp)\n",
    "batting['slug'] = (batting.h + batting.double + batting.triple * 2 + batting.hr * 3) / batting.ab\n",
    "batting['bb_avg'] = batting.bb / batting.ab"
   ]
  },
  {
   "cell_type": "code",
   "execution_count": 216,
   "metadata": {},
   "outputs": [
    {
     "data": {
      "text/html": [
       "<div>\n",
       "<style>\n",
       "    .dataframe thead tr:only-child th {\n",
       "        text-align: right;\n",
       "    }\n",
       "\n",
       "    .dataframe thead th {\n",
       "        text-align: left;\n",
       "    }\n",
       "\n",
       "    .dataframe tbody tr th {\n",
       "        vertical-align: top;\n",
       "    }\n",
       "</style>\n",
       "<table border=\"1\" class=\"dataframe\">\n",
       "  <thead>\n",
       "    <tr style=\"text-align: right;\">\n",
       "      <th></th>\n",
       "      <th>avg</th>\n",
       "      <th>2b_avg</th>\n",
       "      <th>3b_avg</th>\n",
       "      <th>hr_avg</th>\n",
       "      <th>so_avg</th>\n",
       "      <th>era_adj</th>\n",
       "      <th>e_avg</th>\n",
       "    </tr>\n",
       "  </thead>\n",
       "  <tbody>\n",
       "    <tr>\n",
       "      <th>count</th>\n",
       "      <td>888.000000</td>\n",
       "      <td>888.000000</td>\n",
       "      <td>888.000000</td>\n",
       "      <td>888.000000</td>\n",
       "      <td>888.000000</td>\n",
       "      <td>888.000000</td>\n",
       "      <td>888.000000</td>\n",
       "    </tr>\n",
       "    <tr>\n",
       "      <th>mean</th>\n",
       "      <td>0.261666</td>\n",
       "      <td>0.050328</td>\n",
       "      <td>0.005683</td>\n",
       "      <td>0.028711</td>\n",
       "      <td>0.236956</td>\n",
       "      <td>0.155800</td>\n",
       "      <td>0.025017</td>\n",
       "    </tr>\n",
       "    <tr>\n",
       "      <th>std</th>\n",
       "      <td>0.011896</td>\n",
       "      <td>0.005412</td>\n",
       "      <td>0.001638</td>\n",
       "      <td>0.006438</td>\n",
       "      <td>0.035185</td>\n",
       "      <td>0.020758</td>\n",
       "      <td>0.004576</td>\n",
       "    </tr>\n",
       "    <tr>\n",
       "      <th>min</th>\n",
       "      <td>0.226483</td>\n",
       "      <td>0.035318</td>\n",
       "      <td>0.001977</td>\n",
       "      <td>0.010785</td>\n",
       "      <td>0.129858</td>\n",
       "      <td>0.107778</td>\n",
       "      <td>0.012346</td>\n",
       "    </tr>\n",
       "    <tr>\n",
       "      <th>25%</th>\n",
       "      <td>0.253077</td>\n",
       "      <td>0.046913</td>\n",
       "      <td>0.004524</td>\n",
       "      <td>0.024078</td>\n",
       "      <td>0.211706</td>\n",
       "      <td>0.140370</td>\n",
       "      <td>0.021719</td>\n",
       "    </tr>\n",
       "    <tr>\n",
       "      <th>50%</th>\n",
       "      <td>0.261446</td>\n",
       "      <td>0.050326</td>\n",
       "      <td>0.005544</td>\n",
       "      <td>0.028490</td>\n",
       "      <td>0.236740</td>\n",
       "      <td>0.154444</td>\n",
       "      <td>0.024691</td>\n",
       "    </tr>\n",
       "    <tr>\n",
       "      <th>75%</th>\n",
       "      <td>0.269449</td>\n",
       "      <td>0.054027</td>\n",
       "      <td>0.006717</td>\n",
       "      <td>0.032998</td>\n",
       "      <td>0.259088</td>\n",
       "      <td>0.169630</td>\n",
       "      <td>0.028121</td>\n",
       "    </tr>\n",
       "    <tr>\n",
       "      <th>max</th>\n",
       "      <td>0.293993</td>\n",
       "      <td>0.065642</td>\n",
       "      <td>0.010836</td>\n",
       "      <td>0.047025</td>\n",
       "      <td>0.350937</td>\n",
       "      <td>0.236296</td>\n",
       "      <td>0.040924</td>\n",
       "    </tr>\n",
       "  </tbody>\n",
       "</table>\n",
       "</div>"
      ],
      "text/plain": [
       "              avg      2b_avg      3b_avg      hr_avg      so_avg     era_adj  \\\n",
       "count  888.000000  888.000000  888.000000  888.000000  888.000000  888.000000   \n",
       "mean     0.261666    0.050328    0.005683    0.028711    0.236956    0.155800   \n",
       "std      0.011896    0.005412    0.001638    0.006438    0.035185    0.020758   \n",
       "min      0.226483    0.035318    0.001977    0.010785    0.129858    0.107778   \n",
       "25%      0.253077    0.046913    0.004524    0.024078    0.211706    0.140370   \n",
       "50%      0.261446    0.050326    0.005544    0.028490    0.236740    0.154444   \n",
       "75%      0.269449    0.054027    0.006717    0.032998    0.259088    0.169630   \n",
       "max      0.293993    0.065642    0.010836    0.047025    0.350937    0.236296   \n",
       "\n",
       "            e_avg  \n",
       "count  888.000000  \n",
       "mean     0.025017  \n",
       "std      0.004576  \n",
       "min      0.012346  \n",
       "25%      0.021719  \n",
       "50%      0.024691  \n",
       "75%      0.028121  \n",
       "max      0.040924  "
      ]
     },
     "execution_count": 216,
     "metadata": {},
     "output_type": "execute_result"
    }
   ],
   "source": [
    "### OBP is the most important\n",
    "clean_batting = batting[['r_avg','avg','obp','slug']].dropna()\n",
    "clean_batting.describe()"
   ]
  },
  {
   "cell_type": "code",
   "execution_count": 27,
   "metadata": {},
   "outputs": [
    {
     "data": {
      "text/html": [
       "<div>\n",
       "<style>\n",
       "    .dataframe thead tr:only-child th {\n",
       "        text-align: right;\n",
       "    }\n",
       "\n",
       "    .dataframe thead th {\n",
       "        text-align: left;\n",
       "    }\n",
       "\n",
       "    .dataframe tbody tr th {\n",
       "        vertical-align: top;\n",
       "    }\n",
       "</style>\n",
       "<table border=\"1\" class=\"dataframe\">\n",
       "  <thead>\n",
       "    <tr style=\"text-align: right;\">\n",
       "      <th></th>\n",
       "      <th>r_avg</th>\n",
       "      <th>avg</th>\n",
       "      <th>2b_avg</th>\n",
       "      <th>3b_avg</th>\n",
       "      <th>hr_avg</th>\n",
       "      <th>bb_avg</th>\n",
       "    </tr>\n",
       "  </thead>\n",
       "  <tbody>\n",
       "    <tr>\n",
       "      <th>count</th>\n",
       "      <td>439.000000</td>\n",
       "      <td>439.000000</td>\n",
       "      <td>439.000000</td>\n",
       "      <td>439.000000</td>\n",
       "      <td>439.000000</td>\n",
       "      <td>439.000000</td>\n",
       "    </tr>\n",
       "    <tr>\n",
       "      <th>mean</th>\n",
       "      <td>0.124338</td>\n",
       "      <td>0.254533</td>\n",
       "      <td>0.050761</td>\n",
       "      <td>0.006035</td>\n",
       "      <td>0.029847</td>\n",
       "      <td>0.086219</td>\n",
       "    </tr>\n",
       "    <tr>\n",
       "      <th>std</th>\n",
       "      <td>0.030207</td>\n",
       "      <td>0.034052</td>\n",
       "      <td>0.014138</td>\n",
       "      <td>0.006451</td>\n",
       "      <td>0.018075</td>\n",
       "      <td>0.037831</td>\n",
       "    </tr>\n",
       "    <tr>\n",
       "      <th>min</th>\n",
       "      <td>0.037736</td>\n",
       "      <td>0.145631</td>\n",
       "      <td>0.007463</td>\n",
       "      <td>0.000000</td>\n",
       "      <td>0.000000</td>\n",
       "      <td>0.014085</td>\n",
       "    </tr>\n",
       "    <tr>\n",
       "      <th>25%</th>\n",
       "      <td>0.104934</td>\n",
       "      <td>0.232567</td>\n",
       "      <td>0.041061</td>\n",
       "      <td>0.000000</td>\n",
       "      <td>0.016857</td>\n",
       "      <td>0.060483</td>\n",
       "    </tr>\n",
       "    <tr>\n",
       "      <th>50%</th>\n",
       "      <td>0.124277</td>\n",
       "      <td>0.257991</td>\n",
       "      <td>0.050445</td>\n",
       "      <td>0.004310</td>\n",
       "      <td>0.028112</td>\n",
       "      <td>0.080321</td>\n",
       "    </tr>\n",
       "    <tr>\n",
       "      <th>75%</th>\n",
       "      <td>0.142857</td>\n",
       "      <td>0.278144</td>\n",
       "      <td>0.059258</td>\n",
       "      <td>0.009153</td>\n",
       "      <td>0.040036</td>\n",
       "      <td>0.105409</td>\n",
       "    </tr>\n",
       "    <tr>\n",
       "      <th>max</th>\n",
       "      <td>0.226488</td>\n",
       "      <td>0.337995</td>\n",
       "      <td>0.094421</td>\n",
       "      <td>0.033113</td>\n",
       "      <td>0.099010</td>\n",
       "      <td>0.262385</td>\n",
       "    </tr>\n",
       "  </tbody>\n",
       "</table>\n",
       "</div>"
      ],
      "text/plain": [
       "            r_avg         avg      2b_avg      3b_avg      hr_avg      bb_avg\n",
       "count  439.000000  439.000000  439.000000  439.000000  439.000000  439.000000\n",
       "mean     0.124338    0.254533    0.050761    0.006035    0.029847    0.086219\n",
       "std      0.030207    0.034052    0.014138    0.006451    0.018075    0.037831\n",
       "min      0.037736    0.145631    0.007463    0.000000    0.000000    0.014085\n",
       "25%      0.104934    0.232567    0.041061    0.000000    0.016857    0.060483\n",
       "50%      0.124277    0.257991    0.050445    0.004310    0.028112    0.080321\n",
       "75%      0.142857    0.278144    0.059258    0.009153    0.040036    0.105409\n",
       "max      0.226488    0.337995    0.094421    0.033113    0.099010    0.262385"
      ]
     },
     "execution_count": 27,
     "metadata": {},
     "output_type": "execute_result"
    }
   ],
   "source": [
    "# What part of OBP is most important?\n",
    "clean_batting = batting[['r_avg','avg','2b_avg','3b_avg','hr_avg','bb_avg']].dropna()\n",
    "clean_batting.describe()"
   ]
  },
  {
   "cell_type": "code",
   "execution_count": 28,
   "metadata": {
    "collapsed": true
   },
   "outputs": [],
   "source": [
    "y = clean_batting.pop('r_avg')"
   ]
  },
  {
   "cell_type": "code",
   "execution_count": 29,
   "metadata": {
    "collapsed": true
   },
   "outputs": [],
   "source": [
    "X = clean_batting"
   ]
  },
  {
   "cell_type": "code",
   "execution_count": 30,
   "metadata": {
    "collapsed": true
   },
   "outputs": [],
   "source": [
    "X_train, X_test, y_train, y_test = train_test_split(X, y, random_state=42)"
   ]
  },
  {
   "cell_type": "code",
   "execution_count": 31,
   "metadata": {},
   "outputs": [
    {
     "data": {
      "text/plain": [
       "DecisionTreeRegressor(criterion='mse', max_depth=7, max_features=None,\n",
       "           max_leaf_nodes=None, min_impurity_decrease=0.0,\n",
       "           min_impurity_split=None, min_samples_leaf=1,\n",
       "           min_samples_split=2, min_weight_fraction_leaf=0.0,\n",
       "           presort=False, random_state=42, splitter='best')"
      ]
     },
     "execution_count": 31,
     "metadata": {},
     "output_type": "execute_result"
    }
   ],
   "source": [
    "tree = DecisionTreeRegressor(max_depth=7, max_leaf_nodes=None, random_state=42)\n",
    "tree.fit(X_train,y_train)"
   ]
  },
  {
   "cell_type": "code",
   "execution_count": 32,
   "metadata": {},
   "outputs": [
    {
     "data": {
      "text/plain": [
       "array([ 0.31753779,  0.01434132,  0.15614607,  0.35838495,  0.15358988])"
      ]
     },
     "execution_count": 32,
     "metadata": {},
     "output_type": "execute_result"
    }
   ],
   "source": [
    "tree.feature_importances_"
   ]
  },
  {
   "cell_type": "code",
   "execution_count": 192,
   "metadata": {},
   "outputs": [
    {
     "data": {
      "text/plain": [
       "0.42351748073830359"
      ]
     },
     "execution_count": 192,
     "metadata": {},
     "output_type": "execute_result"
    }
   ],
   "source": [
    "cross_val_score(tree, X_train, y_train, cv=5).mean()"
   ]
  },
  {
   "cell_type": "code",
   "execution_count": 186,
   "metadata": {},
   "outputs": [
    {
     "data": {
      "text/plain": [
       "<matplotlib.text.Text at 0x1a244c6da0>"
      ]
     },
     "execution_count": 186,
     "metadata": {},
     "output_type": "execute_result"
    },
    {
     "data": {
      "image/png": "[encoded data removed]",
      "text/plain": [
       "<matplotlib.figure.Figure at 0x1a23b8c438>"
      ]
     },
     "metadata": {},
     "output_type": "display_data"
    }
   ],
   "source": [
    "score = []\n",
    "test_range = np.arange(140,160,1)\n",
    "for nodes in test_range:\n",
    "    tree = DecisionTreeRegressor(max_depth=8,max_leaf_nodes=nodes)\n",
    "    tree.fit(X_train,y_train)\n",
    "    results = tree.predict(X_test)\n",
    "    score.append(r2_score(y_test, results))\n",
    "plt.plot(test_range,score)\n",
    "plt.xlabel('max_leaf_nodes')\n",
    "plt.ylabel('r2_score')"
   ]
  },
  {
   "cell_type": "markdown",
   "metadata": {
    "collapsed": true
   },
   "source": [
    "### Salary"
   ]
  },
  {
   "cell_type": "code",
   "execution_count": 15,
   "metadata": {},
   "outputs": [],
   "source": [
    "batting = pd.read_csv('data/baseball/batting.csv')\n",
    "pitching = pd.read_csv('data/baseball/pitching.csv')\n",
    "salary = pd.read_csv('data/baseball/salary.csv')\n",
    "batting = batting[(batting.year == 2015) & (batting.ab > 100)]\n",
    "batting['avg'] = batting.h / batting.ab\n",
    "batting['2b_avg'] = batting.double / batting.ab\n",
    "batting['3b_avg'] = batting.triple / batting.ab\n",
    "batting['hr_avg'] = batting.hr / batting.ab\n",
    "batting['r_avg'] = batting.r / batting.ab\n",
    "batting['obp'] = (batting.h + batting.bb + batting.hbp) / (batting.ab + batting.bb + batting.hbp)\n",
    "batting['slug'] = (batting.h + batting.double + batting.triple * 2 + batting.hr * 3) / batting.ab\n",
    "batting['bb_avg'] = batting.bb / batting.ab\n",
    "batting_salary = salary.merge(batting)"
   ]
  },
  {
   "cell_type": "code",
   "execution_count": 45,
   "metadata": {},
   "outputs": [
    {
     "data": {
      "text/html": [
       "<div>\n",
       "<style>\n",
       "    .dataframe thead tr:only-child th {\n",
       "        text-align: right;\n",
       "    }\n",
       "\n",
       "    .dataframe thead th {\n",
       "        text-align: left;\n",
       "    }\n",
       "\n",
       "    .dataframe tbody tr th {\n",
       "        vertical-align: top;\n",
       "    }\n",
       "</style>\n",
       "<table border=\"1\" class=\"dataframe\">\n",
       "  <thead>\n",
       "    <tr style=\"text-align: right;\">\n",
       "      <th></th>\n",
       "      <th>salary</th>\n",
       "      <th>avg</th>\n",
       "      <th>hr_avg</th>\n",
       "      <th>bb_avg</th>\n",
       "    </tr>\n",
       "  </thead>\n",
       "  <tbody>\n",
       "    <tr>\n",
       "      <th>count</th>\n",
       "      <td>3.410000e+02</td>\n",
       "      <td>341.000000</td>\n",
       "      <td>341.000000</td>\n",
       "      <td>341.000000</td>\n",
       "    </tr>\n",
       "    <tr>\n",
       "      <th>mean</th>\n",
       "      <td>5.430086e+06</td>\n",
       "      <td>0.254320</td>\n",
       "      <td>0.029521</td>\n",
       "      <td>0.087685</td>\n",
       "    </tr>\n",
       "    <tr>\n",
       "      <th>std</th>\n",
       "      <td>6.104767e+06</td>\n",
       "      <td>0.034310</td>\n",
       "      <td>0.017418</td>\n",
       "      <td>0.038336</td>\n",
       "    </tr>\n",
       "    <tr>\n",
       "      <th>min</th>\n",
       "      <td>5.075000e+05</td>\n",
       "      <td>0.145631</td>\n",
       "      <td>0.000000</td>\n",
       "      <td>0.015873</td>\n",
       "    </tr>\n",
       "    <tr>\n",
       "      <th>25%</th>\n",
       "      <td>5.340000e+05</td>\n",
       "      <td>0.231405</td>\n",
       "      <td>0.016892</td>\n",
       "      <td>0.061828</td>\n",
       "    </tr>\n",
       "    <tr>\n",
       "      <th>50%</th>\n",
       "      <td>2.725000e+06</td>\n",
       "      <td>0.257732</td>\n",
       "      <td>0.027972</td>\n",
       "      <td>0.083032</td>\n",
       "    </tr>\n",
       "    <tr>\n",
       "      <th>75%</th>\n",
       "      <td>8.000000e+06</td>\n",
       "      <td>0.278157</td>\n",
       "      <td>0.039877</td>\n",
       "      <td>0.107477</td>\n",
       "    </tr>\n",
       "    <tr>\n",
       "      <th>max</th>\n",
       "      <td>2.500000e+07</td>\n",
       "      <td>0.337995</td>\n",
       "      <td>0.096774</td>\n",
       "      <td>0.262385</td>\n",
       "    </tr>\n",
       "  </tbody>\n",
       "</table>\n",
       "</div>"
      ],
      "text/plain": [
       "             salary         avg      hr_avg      bb_avg\n",
       "count  3.410000e+02  341.000000  341.000000  341.000000\n",
       "mean   5.430086e+06    0.254320    0.029521    0.087685\n",
       "std    6.104767e+06    0.034310    0.017418    0.038336\n",
       "min    5.075000e+05    0.145631    0.000000    0.015873\n",
       "25%    5.340000e+05    0.231405    0.016892    0.061828\n",
       "50%    2.725000e+06    0.257732    0.027972    0.083032\n",
       "75%    8.000000e+06    0.278157    0.039877    0.107477\n",
       "max    2.500000e+07    0.337995    0.096774    0.262385"
      ]
     },
     "execution_count": 45,
     "metadata": {},
     "output_type": "execute_result"
    }
   ],
   "source": [
    "clean_batting = batting_salary[['salary','avg','hr_avg','bb_avg']].dropna()\n",
    "clean_batting.describe()"
   ]
  },
  {
   "cell_type": "code",
   "execution_count": 46,
   "metadata": {},
   "outputs": [],
   "source": [
    "y = clean_batting.pop('salary')"
   ]
  },
  {
   "cell_type": "code",
   "execution_count": 47,
   "metadata": {
    "collapsed": true
   },
   "outputs": [],
   "source": [
    "X = clean_batting"
   ]
  },
  {
   "cell_type": "code",
   "execution_count": 23,
   "metadata": {},
   "outputs": [],
   "source": [
    "X_train, X_test, y_train, y_test = train_test_split(X, y, random_state=42)"
   ]
  },
  {
   "cell_type": "code",
   "execution_count": 33,
   "metadata": {},
   "outputs": [
    {
     "name": "stderr",
     "output_type": "stream",
     "text": [
      "/Users/jnelson/anaconda3/lib/python3.6/site-packages/statsmodels/compat/pandas.py:56: FutureWarning: The pandas.core.datetools module is deprecated and will be removed in a future version. Please use the pandas.tseries module instead.\n",
      "  from pandas.core import datetools\n"
     ]
    }
   ],
   "source": [
    "import statsmodels.api as sm\n",
    "import statsmodels.formula.api as smf"
   ]
  },
  {
   "cell_type": "code",
   "execution_count": 48,
   "metadata": {},
   "outputs": [
    {
     "name": "stdout",
     "output_type": "stream",
     "text": [
      "                            OLS Regression Results                            \n",
      "==============================================================================\n",
      "Dep. Variable:                 salary   R-squared:                       0.102\n",
      "Model:                            OLS   Adj. R-squared:                  0.094\n",
      "Method:                 Least Squares   F-statistic:                     12.70\n",
      "Date:                Thu, 16 Nov 2017   Prob (F-statistic):           6.96e-08\n",
      "Time:                        15:31:18   Log-Likelihood:                -554.24\n",
      "No. Observations:                 341   AIC:                             1116.\n",
      "Df Residuals:                     337   BIC:                             1132.\n",
      "Df Model:                           3                                         \n",
      "Covariance Type:            nonrobust                                         \n",
      "==============================================================================\n",
      "                 coef    std err          t      P>|t|      [0.025      0.975]\n",
      "------------------------------------------------------------------------------\n",
      "const         12.5835      0.521     24.146      0.000      11.558      13.609\n",
      "avg            5.2568      1.967      2.672      0.008       1.387       9.127\n",
      "hr_avg        12.6774      4.190      3.026      0.003       4.436      20.918\n",
      "bb_avg         5.4719      1.892      2.892      0.004       1.750       9.193\n",
      "==============================================================================\n",
      "Omnibus:                      164.925   Durbin-Watson:                   1.987\n",
      "Prob(Omnibus):                  0.000   Jarque-Bera (JB):               19.701\n",
      "Skew:                           0.034   Prob(JB):                     5.27e-05\n",
      "Kurtosis:                       1.824   Cond. No.                         66.1\n",
      "==============================================================================\n",
      "\n",
      "Warnings:\n",
      "[1] Standard Errors assume that the covariance matrix of the errors is correctly specified.\n"
     ]
    }
   ],
   "source": [
    "y = np.log(y)\n",
    "X = sm.add_constant(X)\n",
    "results = smf.OLS(y, X).fit()\n",
    "print(results.summary())"
   ]
  },
  {
   "cell_type": "code",
   "execution_count": null,
   "metadata": {
    "collapsed": true
   },
   "outputs": [],
   "source": []
  },
  {
   "cell_type": "code",
   "execution_count": 25,
   "metadata": {},
   "outputs": [
    {
     "data": {
      "text/plain": [
       "array([ 0.10033528,  0.12938248,  0.11355568,  0.28512085,  0.17871328,\n",
       "        0.19289243])"
      ]
     },
     "execution_count": 25,
     "metadata": {},
     "output_type": "execute_result"
    }
   ],
   "source": [
    "tree.feature_importances_"
   ]
  },
  {
   "cell_type": "code",
   "execution_count": null,
   "metadata": {
    "collapsed": true
   },
   "outputs": [],
   "source": []
  }
 ],
 "metadata": {
  "kernelspec": {
   "display_name": "Python 3",
   "language": "python",
   "name": "python3"
  },
  "language_info": {
   "codemirror_mode": {
    "name": "ipython",
    "version": 3
   },
   "file_extension": ".py",
   "mimetype": "text/x-python",
   "name": "python",
   "nbconvert_exporter": "python",
   "pygments_lexer": "ipython3",
   "version": "3.6.3"
  }
 },
 "nbformat": 4,
 "nbformat_minor": 2
}
