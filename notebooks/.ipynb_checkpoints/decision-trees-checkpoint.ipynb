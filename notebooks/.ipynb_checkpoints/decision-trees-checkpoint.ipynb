{
 "cells": [
  {
   "cell_type": "code",
   "execution_count": 1,
   "metadata": {
    "collapsed": true
   },
   "outputs": [],
   "source": [
    "%matplotlib inline\n",
    "import math\n",
    "import pandas as pd\n",
    "import numpy as np\n",
    "import matplotlib.pyplot as plt"
   ]
  },
  {
   "cell_type": "markdown",
   "metadata": {},
   "source": [
    "### What variables are important for teams to win?"
   ]
  },
  {
   "cell_type": "code",
   "execution_count": 2,
   "metadata": {
    "collapsed": true
   },
   "outputs": [],
   "source": [
    "team = pd.read_csv('../data/baseball/team.csv')"
   ]
  },
  {
   "cell_type": "code",
   "execution_count": 3,
   "metadata": {
    "collapsed": true
   },
   "outputs": [],
   "source": [
    "team = team[team.year >= 1985]"
   ]
  },
  {
   "cell_type": "code",
   "execution_count": 4,
   "metadata": {
    "collapsed": true
   },
   "outputs": [],
   "source": [
    "team['w_pct'] = team.w / 162\n",
    "team['avg'] = team.h / team.ab\n",
    "team['2b_avg'] = team.double / team.ab\n",
    "team['3b_avg'] = team.triple / team.ab\n",
    "team['hr_avg'] = team.hr / team.ab\n",
    "team['r_avg'] = team.r / team.ab\n",
    "team['so_avg'] = team.so / (162*27)\n",
    "team['era_adj'] = team.era / 27\n",
    "team['e_avg'] = team.e / (162*27)\n",
    "team['bb_avg'] = team.bb / team.ab"
   ]
  },
  {
   "cell_type": "code",
   "execution_count": 5,
   "metadata": {
    "collapsed": true
   },
   "outputs": [],
   "source": [
    "from sklearn.model_selection import train_test_split"
   ]
  },
  {
   "cell_type": "code",
   "execution_count": 6,
   "metadata": {},
   "outputs": [
    {
     "data": {
      "text/html": [
       "<div>\n",
       "<table border=\"1\" class=\"dataframe\">\n",
       "  <thead>\n",
       "    <tr style=\"text-align: right;\">\n",
       "      <th></th>\n",
       "      <th>w_pct</th>\n",
       "      <th>r_avg</th>\n",
       "      <th>avg</th>\n",
       "      <th>bb_avg</th>\n",
       "      <th>so_avg</th>\n",
       "      <th>era_adj</th>\n",
       "      <th>e_avg</th>\n",
       "    </tr>\n",
       "  </thead>\n",
       "  <tbody>\n",
       "    <tr>\n",
       "      <th>count</th>\n",
       "      <td>888.000000</td>\n",
       "      <td>888.000000</td>\n",
       "      <td>888.000000</td>\n",
       "      <td>888.000000</td>\n",
       "      <td>888.000000</td>\n",
       "      <td>888.000000</td>\n",
       "      <td>888.000000</td>\n",
       "    </tr>\n",
       "    <tr>\n",
       "      <th>mean</th>\n",
       "      <td>0.493278</td>\n",
       "      <td>0.133540</td>\n",
       "      <td>0.261666</td>\n",
       "      <td>0.096405</td>\n",
       "      <td>0.236956</td>\n",
       "      <td>0.155800</td>\n",
       "      <td>0.025017</td>\n",
       "    </tr>\n",
       "    <tr>\n",
       "      <th>std</th>\n",
       "      <td>0.073345</td>\n",
       "      <td>0.014543</td>\n",
       "      <td>0.011896</td>\n",
       "      <td>0.012839</td>\n",
       "      <td>0.035185</td>\n",
       "      <td>0.020758</td>\n",
       "      <td>0.004576</td>\n",
       "    </tr>\n",
       "    <tr>\n",
       "      <th>min</th>\n",
       "      <td>0.265432</td>\n",
       "      <td>0.094146</td>\n",
       "      <td>0.226483</td>\n",
       "      <td>0.067148</td>\n",
       "      <td>0.129858</td>\n",
       "      <td>0.107778</td>\n",
       "      <td>0.012346</td>\n",
       "    </tr>\n",
       "    <tr>\n",
       "      <th>25%</th>\n",
       "      <td>0.442901</td>\n",
       "      <td>0.123301</td>\n",
       "      <td>0.253077</td>\n",
       "      <td>0.087541</td>\n",
       "      <td>0.211706</td>\n",
       "      <td>0.140370</td>\n",
       "      <td>0.021719</td>\n",
       "    </tr>\n",
       "    <tr>\n",
       "      <th>50%</th>\n",
       "      <td>0.493827</td>\n",
       "      <td>0.132741</td>\n",
       "      <td>0.261446</td>\n",
       "      <td>0.095332</td>\n",
       "      <td>0.236740</td>\n",
       "      <td>0.154444</td>\n",
       "      <td>0.024691</td>\n",
       "    </tr>\n",
       "    <tr>\n",
       "      <th>75%</th>\n",
       "      <td>0.549383</td>\n",
       "      <td>0.143036</td>\n",
       "      <td>0.269449</td>\n",
       "      <td>0.105379</td>\n",
       "      <td>0.259088</td>\n",
       "      <td>0.169630</td>\n",
       "      <td>0.028121</td>\n",
       "    </tr>\n",
       "    <tr>\n",
       "      <th>max</th>\n",
       "      <td>0.716049</td>\n",
       "      <td>0.179091</td>\n",
       "      <td>0.293993</td>\n",
       "      <td>0.140986</td>\n",
       "      <td>0.350937</td>\n",
       "      <td>0.236296</td>\n",
       "      <td>0.040924</td>\n",
       "    </tr>\n",
       "  </tbody>\n",
       "</table>\n",
       "</div>"
      ],
      "text/plain": [
       "            w_pct       r_avg         avg      bb_avg      so_avg     era_adj  \\\n",
       "count  888.000000  888.000000  888.000000  888.000000  888.000000  888.000000   \n",
       "mean     0.493278    0.133540    0.261666    0.096405    0.236956    0.155800   \n",
       "std      0.073345    0.014543    0.011896    0.012839    0.035185    0.020758   \n",
       "min      0.265432    0.094146    0.226483    0.067148    0.129858    0.107778   \n",
       "25%      0.442901    0.123301    0.253077    0.087541    0.211706    0.140370   \n",
       "50%      0.493827    0.132741    0.261446    0.095332    0.236740    0.154444   \n",
       "75%      0.549383    0.143036    0.269449    0.105379    0.259088    0.169630   \n",
       "max      0.716049    0.179091    0.293993    0.140986    0.350937    0.236296   \n",
       "\n",
       "            e_avg  \n",
       "count  888.000000  \n",
       "mean     0.025017  \n",
       "std      0.004576  \n",
       "min      0.012346  \n",
       "25%      0.021719  \n",
       "50%      0.024691  \n",
       "75%      0.028121  \n",
       "max      0.040924  "
      ]
     },
     "execution_count": 6,
     "metadata": {},
     "output_type": "execute_result"
    }
   ],
   "source": [
    "clean = team[['w_pct','r_avg','avg','bb_avg','so_avg','era_adj','e_avg']]\n",
    "clean.describe()"
   ]
  },
  {
   "cell_type": "code",
   "execution_count": 7,
   "metadata": {
    "collapsed": true
   },
   "outputs": [],
   "source": [
    "y = clean.pop('w_pct')"
   ]
  },
  {
   "cell_type": "code",
   "execution_count": 8,
   "metadata": {
    "collapsed": true
   },
   "outputs": [],
   "source": [
    "X = clean"
   ]
  },
  {
   "cell_type": "code",
   "execution_count": 9,
   "metadata": {
    "collapsed": true
   },
   "outputs": [],
   "source": [
    "X_train, X_test, y_train, y_test = train_test_split(X, y, random_state=42)"
   ]
  },
  {
   "cell_type": "code",
   "execution_count": 10,
   "metadata": {
    "collapsed": true
   },
   "outputs": [],
   "source": [
    "from sklearn.tree import DecisionTreeRegressor"
   ]
  },
  {
   "cell_type": "code",
   "execution_count": 11,
   "metadata": {
    "collapsed": true
   },
   "outputs": [],
   "source": [
    "from sklearn.model_selection import cross_val_score\n",
    "from sklearn.metrics import mean_squared_error\n",
    "from sklearn.metrics import r2_score"
   ]
  },
  {
   "cell_type": "code",
   "execution_count": 12,
   "metadata": {},
   "outputs": [
    {
     "data": {
      "text/plain": [
       "DecisionTreeRegressor(criterion='mse', max_depth=6, max_features=None,\n",
       "           max_leaf_nodes=39, min_impurity_decrease=0.0,\n",
       "           min_impurity_split=None, min_samples_leaf=1,\n",
       "           min_samples_split=2, min_weight_fraction_leaf=0.0,\n",
       "           presort=False, random_state=42, splitter='best')"
      ]
     },
     "execution_count": 12,
     "metadata": {},
     "output_type": "execute_result"
    }
   ],
   "source": [
    "tree = DecisionTreeRegressor(max_depth=6, max_leaf_nodes=39, random_state=42)\n",
    "tree.fit(X_train,y_train)"
   ]
  },
  {
   "cell_type": "code",
   "execution_count": 13,
   "metadata": {},
   "outputs": [
    {
     "name": "stdout",
     "output_type": "stream",
     "text": [
      "('r_avg', 0.39529150528029333)\n",
      "('avg', 0.022069976424698174)\n",
      "('bb_avg', 0.0066931475486664456)\n",
      "('so_avg', 0.10790911123162597)\n",
      "('era_adj', 0.45704845784772291)\n",
      "('e_avg', 0.010987801666993107)\n"
     ]
    }
   ],
   "source": [
    "for x in zip(X.columns,tree.feature_importances_):\n",
    "    print(x)"
   ]
  },
  {
   "cell_type": "code",
   "execution_count": 14,
   "metadata": {},
   "outputs": [
    {
     "data": {
      "text/plain": [
       "0.58375469966250038"
      ]
     },
     "execution_count": 14,
     "metadata": {},
     "output_type": "execute_result"
    }
   ],
   "source": [
    "cross_val_score(tree, X_train, y_train, cv=5).mean()"
   ]
  },
  {
   "cell_type": "code",
   "execution_count": 15,
   "metadata": {},
   "outputs": [
    {
     "data": {
      "text/plain": [
       "<matplotlib.text.Text at 0x115375cf8>"
      ]
     },
     "execution_count": 15,
     "metadata": {},
     "output_type": "execute_result"
    },
    {
     "data": {
      "image/png": "[encoded data removed]",
      "text/plain": [
       "<matplotlib.figure.Figure at 0x112b5e9e8>"
      ]
     },
     "metadata": {},
     "output_type": "display_data"
    }
   ],
   "source": [
    "score = []\n",
    "test_range = np.arange(38,45,1)\n",
    "for nodes in test_range:\n",
    "    tree = DecisionTreeRegressor(max_depth=6, max_leaf_nodes=nodes)\n",
    "    tree.fit(X_train,y_train)\n",
    "    score.append(cross_val_score(tree, X_train, y_train, cv=5).mean())\n",
    "plt.plot(test_range,score)\n",
    "plt.xlabel('depth')\n",
    "plt.ylabel('r2_score')"
   ]
  },
  {
   "cell_type": "markdown",
   "metadata": {},
   "source": [
    "#### Testing other models"
   ]
  },
  {
   "cell_type": "code",
   "execution_count": 16,
   "metadata": {
    "collapsed": true
   },
   "outputs": [],
   "source": [
    "from sklearn.linear_model import LinearRegression\n",
    "from sklearn.linear_model import LassoCV\n",
    "from sklearn.linear_model import RidgeCV\n",
    "from sklearn.svm import LinearSVR\n",
    "from sklearn.svm import SVR"
   ]
  },
  {
   "cell_type": "code",
   "execution_count": 17,
   "metadata": {},
   "outputs": [
    {
     "name": "stderr",
     "output_type": "stream",
     "text": [
      "/Users/jnelson/anaconda3/lib/python3.6/site-packages/scipy/linalg/basic.py:1226: RuntimeWarning: internal gelsd driver lwork query error, required iwork dimension not returned. This is likely the result of LAPACK bug 0038, fixed in LAPACK 3.2.2 (released July 21, 2010). Falling back to 'gelss' driver.\n",
      "  warnings.warn(mesg, RuntimeWarning)\n"
     ]
    },
    {
     "data": {
      "text/plain": [
       "0.0009585276651613929"
      ]
     },
     "execution_count": 17,
     "metadata": {},
     "output_type": "execute_result"
    }
   ],
   "source": [
    "lin = LinearRegression()\n",
    "lin.fit(X_train,y_train)\n",
    "results = lin.predict(X_test)\n",
    "mean_squared_error(y_test, results)"
   ]
  },
  {
   "cell_type": "code",
   "execution_count": 18,
   "metadata": {},
   "outputs": [
    {
     "data": {
      "text/plain": [
       "0.75180467311646026"
      ]
     },
     "execution_count": 18,
     "metadata": {},
     "output_type": "execute_result"
    }
   ],
   "source": [
    "cross_val_score(lin, X_train, y_train, cv=5).mean()"
   ]
  },
  {
   "cell_type": "code",
   "execution_count": 19,
   "metadata": {},
   "outputs": [
    {
     "data": {
      "text/plain": [
       "array([ 2.97363671,  0.99336927, -0.02240594,  0.44744796, -2.86139108,\n",
       "       -0.11176782])"
      ]
     },
     "execution_count": 19,
     "metadata": {},
     "output_type": "execute_result"
    }
   ],
   "source": [
    "lin.coef_"
   ]
  },
  {
   "cell_type": "code",
   "execution_count": 20,
   "metadata": {},
   "outputs": [
    {
     "data": {
      "text/plain": [
       "0.00096634986902088338"
      ]
     },
     "execution_count": 20,
     "metadata": {},
     "output_type": "execute_result"
    }
   ],
   "source": [
    "lscv = LassoCV(eps=0.004)\n",
    "lscv.fit(X_train,y_train)\n",
    "results = lscv.predict(X_test)\n",
    "mean_squared_error(y_test, results)"
   ]
  },
  {
   "cell_type": "code",
   "execution_count": 21,
   "metadata": {},
   "outputs": [
    {
     "data": {
      "text/plain": [
       "0.75244274572402792"
      ]
     },
     "execution_count": 21,
     "metadata": {},
     "output_type": "execute_result"
    }
   ],
   "source": [
    "cross_val_score(lscv, X_train, y_train, cv=5).mean()"
   ]
  },
  {
   "cell_type": "code",
   "execution_count": 22,
   "metadata": {},
   "outputs": [
    {
     "data": {
      "text/plain": [
       "array([ 2.9579512 ,  0.87291692,  0.        ,  0.42571557, -2.81092711, -0.        ])"
      ]
     },
     "execution_count": 22,
     "metadata": {},
     "output_type": "execute_result"
    }
   ],
   "source": [
    "lscv.coef_"
   ]
  },
  {
   "cell_type": "code",
   "execution_count": 23,
   "metadata": {},
   "outputs": [
    {
     "data": {
      "text/plain": [
       "0.00089228045005636106"
      ]
     },
     "execution_count": 23,
     "metadata": {},
     "output_type": "execute_result"
    }
   ],
   "source": [
    "svr = SVR(C=1000,epsilon=0.039)\n",
    "svr.fit(X_train,y_train)\n",
    "results = svr.predict(X_test)\n",
    "mean_squared_error(y_test, results)"
   ]
  },
  {
   "cell_type": "code",
   "execution_count": 24,
   "metadata": {},
   "outputs": [
    {
     "data": {
      "text/plain": [
       "0.78902768431733961"
      ]
     },
     "execution_count": 24,
     "metadata": {},
     "output_type": "execute_result"
    }
   ],
   "source": [
    "cross_val_score(svr, X_train, y_train, cv=5).mean()"
   ]
  },
  {
   "cell_type": "code",
   "execution_count": 25,
   "metadata": {},
   "outputs": [
    {
     "data": {
      "text/plain": [
       "<matplotlib.text.Text at 0x115bc7320>"
      ]
     },
     "execution_count": 25,
     "metadata": {},
     "output_type": "execute_result"
    },
    {
     "data": {
      "image/png": "[encoded data removed]",
      "text/plain": [
       "<matplotlib.figure.Figure at 0x115b61898>"
      ]
     },
     "metadata": {},
     "output_type": "display_data"
    }
   ],
   "source": [
    "score = []\n",
    "test_range = np.arange(0,0.05,0.001)\n",
    "for e in test_range:\n",
    "    svr = SVR(C=1000,epsilon=e)\n",
    "    svr.fit(X_train,y_train)\n",
    "    score.append(cross_val_score(svr, X_train, y_train, cv=5).mean())\n",
    "plt.plot(test_range,score)\n",
    "plt.xlabel('epsilon parameter')\n",
    "plt.ylabel('mean_squared_error')"
   ]
  },
  {
   "cell_type": "code",
   "execution_count": 26,
   "metadata": {},
   "outputs": [
    {
     "data": {
      "text/plain": [
       "<matplotlib.text.Text at 0x115c580f0>"
      ]
     },
     "execution_count": 26,
     "metadata": {},
     "output_type": "execute_result"
    },
    {
     "data": {
      "image/png": "[encoded data removed]",
      "text/plain": [
       "<matplotlib.figure.Figure at 0x1153f4ef0>"
      ]
     },
     "metadata": {},
     "output_type": "display_data"
    }
   ],
   "source": [
    "score = []\n",
    "test_range = np.arange(0.001,0.01,0.001)\n",
    "for eps in test_range:\n",
    "    lscv = LassoCV(eps=eps)\n",
    "    lscv.fit(X_train,y_train)\n",
    "    score.append(cross_val_score(lscv, X_train, y_train, cv=5).mean())\n",
    "plt.plot(test_range,score)\n",
    "plt.xlabel('n_alphas')\n",
    "plt.ylabel('mean_squared_error')"
   ]
  },
  {
   "cell_type": "markdown",
   "metadata": {},
   "source": [
    "### What is important for players?"
   ]
  },
  {
   "cell_type": "code",
   "execution_count": 27,
   "metadata": {
    "collapsed": true
   },
   "outputs": [],
   "source": [
    "batting = pd.read_csv('../data/baseball/batting.csv')\n",
    "salary = pd.read_csv('../data/baseball/salary.csv')"
   ]
  },
  {
   "cell_type": "code",
   "execution_count": 28,
   "metadata": {
    "collapsed": true
   },
   "outputs": [],
   "source": [
    "batting = batting[(batting.year >= 1985) & (batting.ab > 100)]"
   ]
  },
  {
   "cell_type": "code",
   "execution_count": 29,
   "metadata": {
    "collapsed": true
   },
   "outputs": [],
   "source": [
    "batting['avg'] = batting.h / batting.ab\n",
    "batting['1b_avg'] = (batting.h - batting.double - batting.triple - batting.hr) / batting.ab\n",
    "batting['2b_avg'] = batting.double / batting.ab\n",
    "batting['3b_avg'] = batting.triple / batting.ab\n",
    "batting['hr_avg'] = batting.hr / batting.ab\n",
    "batting['r_avg'] = batting.r / batting.ab\n",
    "batting['obp'] = ((batting.h + batting.bb + batting.hbp + batting.ibb) /\n",
    "    (batting.ab + batting.bb + batting.hbp + batting.ibb))\n",
    "batting['slug'] = (batting.h + batting.double + batting.triple * 2 + batting.hr * 3) / batting.ab\n",
    "batting['bb_avg'] = (batting.bb + batting.ibb) / batting.ab\n",
    "batting['hbp_avg'] = batting.hbp / batting.ab"
   ]
  },
  {
   "cell_type": "code",
   "execution_count": 30,
   "metadata": {},
   "outputs": [
    {
     "data": {
      "text/html": [
       "<div>\n",
       "<table border=\"1\" class=\"dataframe\">\n",
       "  <thead>\n",
       "    <tr style=\"text-align: right;\">\n",
       "      <th></th>\n",
       "      <th>r_avg</th>\n",
       "      <th>avg</th>\n",
       "      <th>obp</th>\n",
       "      <th>slug</th>\n",
       "    </tr>\n",
       "  </thead>\n",
       "  <tbody>\n",
       "    <tr>\n",
       "      <th>count</th>\n",
       "      <td>12936.000000</td>\n",
       "      <td>12936.000000</td>\n",
       "      <td>12936.000000</td>\n",
       "      <td>12936.000000</td>\n",
       "    </tr>\n",
       "    <tr>\n",
       "      <th>mean</th>\n",
       "      <td>0.131785</td>\n",
       "      <td>0.261167</td>\n",
       "      <td>0.335303</td>\n",
       "      <td>0.406472</td>\n",
       "    </tr>\n",
       "    <tr>\n",
       "      <th>std</th>\n",
       "      <td>0.033729</td>\n",
       "      <td>0.034964</td>\n",
       "      <td>0.043840</td>\n",
       "      <td>0.080390</td>\n",
       "    </tr>\n",
       "    <tr>\n",
       "      <th>min</th>\n",
       "      <td>0.009091</td>\n",
       "      <td>0.122642</td>\n",
       "      <td>0.173077</td>\n",
       "      <td>0.158416</td>\n",
       "    </tr>\n",
       "    <tr>\n",
       "      <th>25%</th>\n",
       "      <td>0.108904</td>\n",
       "      <td>0.239256</td>\n",
       "      <td>0.307014</td>\n",
       "      <td>0.350758</td>\n",
       "    </tr>\n",
       "    <tr>\n",
       "      <th>50%</th>\n",
       "      <td>0.131089</td>\n",
       "      <td>0.262032</td>\n",
       "      <td>0.334429</td>\n",
       "      <td>0.401796</td>\n",
       "    </tr>\n",
       "    <tr>\n",
       "      <th>75%</th>\n",
       "      <td>0.153614</td>\n",
       "      <td>0.284647</td>\n",
       "      <td>0.362637</td>\n",
       "      <td>0.457627</td>\n",
       "    </tr>\n",
       "    <tr>\n",
       "      <th>max</th>\n",
       "      <td>0.345845</td>\n",
       "      <td>0.395722</td>\n",
       "      <td>0.675749</td>\n",
       "      <td>0.863445</td>\n",
       "    </tr>\n",
       "  </tbody>\n",
       "</table>\n",
       "</div>"
      ],
      "text/plain": [
       "              r_avg           avg           obp          slug\n",
       "count  12936.000000  12936.000000  12936.000000  12936.000000\n",
       "mean       0.131785      0.261167      0.335303      0.406472\n",
       "std        0.033729      0.034964      0.043840      0.080390\n",
       "min        0.009091      0.122642      0.173077      0.158416\n",
       "25%        0.108904      0.239256      0.307014      0.350758\n",
       "50%        0.131089      0.262032      0.334429      0.401796\n",
       "75%        0.153614      0.284647      0.362637      0.457627\n",
       "max        0.345845      0.395722      0.675749      0.863445"
      ]
     },
     "execution_count": 30,
     "metadata": {},
     "output_type": "execute_result"
    }
   ],
   "source": [
    "### OBP is the most important\n",
    "clean_batting = batting[['r_avg','avg','obp','slug']].dropna()\n",
    "clean_batting.describe()"
   ]
  },
  {
   "cell_type": "code",
   "execution_count": 31,
   "metadata": {},
   "outputs": [
    {
     "data": {
      "text/html": [
       "<div>\n",
       "<table border=\"1\" class=\"dataframe\">\n",
       "  <thead>\n",
       "    <tr style=\"text-align: right;\">\n",
       "      <th></th>\n",
       "      <th>r_avg</th>\n",
       "      <th>1b_avg</th>\n",
       "      <th>2b_avg</th>\n",
       "      <th>3b_avg</th>\n",
       "      <th>hr_avg</th>\n",
       "      <th>bb_avg</th>\n",
       "      <th>hbp_avg</th>\n",
       "    </tr>\n",
       "  </thead>\n",
       "  <tbody>\n",
       "    <tr>\n",
       "      <th>count</th>\n",
       "      <td>12936.000000</td>\n",
       "      <td>12936.000000</td>\n",
       "      <td>12936.000000</td>\n",
       "      <td>12936.000000</td>\n",
       "      <td>12936.000000</td>\n",
       "      <td>12936.000000</td>\n",
       "      <td>12936.000000</td>\n",
       "    </tr>\n",
       "    <tr>\n",
       "      <th>mean</th>\n",
       "      <td>0.131785</td>\n",
       "      <td>0.177271</td>\n",
       "      <td>0.050343</td>\n",
       "      <td>0.005697</td>\n",
       "      <td>0.027856</td>\n",
       "      <td>0.104742</td>\n",
       "      <td>0.009054</td>\n",
       "    </tr>\n",
       "    <tr>\n",
       "      <th>std</th>\n",
       "      <td>0.033729</td>\n",
       "      <td>0.033563</td>\n",
       "      <td>0.015720</td>\n",
       "      <td>0.005885</td>\n",
       "      <td>0.019150</td>\n",
       "      <td>0.047964</td>\n",
       "      <td>0.008977</td>\n",
       "    </tr>\n",
       "    <tr>\n",
       "      <th>min</th>\n",
       "      <td>0.009091</td>\n",
       "      <td>0.057692</td>\n",
       "      <td>0.000000</td>\n",
       "      <td>0.000000</td>\n",
       "      <td>0.000000</td>\n",
       "      <td>0.000000</td>\n",
       "      <td>0.000000</td>\n",
       "    </tr>\n",
       "    <tr>\n",
       "      <th>25%</th>\n",
       "      <td>0.108904</td>\n",
       "      <td>0.154541</td>\n",
       "      <td>0.040000</td>\n",
       "      <td>0.000000</td>\n",
       "      <td>0.012850</td>\n",
       "      <td>0.071274</td>\n",
       "      <td>0.002784</td>\n",
       "    </tr>\n",
       "    <tr>\n",
       "      <th>50%</th>\n",
       "      <td>0.131089</td>\n",
       "      <td>0.176991</td>\n",
       "      <td>0.050000</td>\n",
       "      <td>0.004515</td>\n",
       "      <td>0.025105</td>\n",
       "      <td>0.097148</td>\n",
       "      <td>0.006993</td>\n",
       "    </tr>\n",
       "    <tr>\n",
       "      <th>75%</th>\n",
       "      <td>0.153614</td>\n",
       "      <td>0.199636</td>\n",
       "      <td>0.060606</td>\n",
       "      <td>0.008489</td>\n",
       "      <td>0.039666</td>\n",
       "      <td>0.130871</td>\n",
       "      <td>0.012755</td>\n",
       "    </tr>\n",
       "    <tr>\n",
       "      <th>max</th>\n",
       "      <td>0.345845</td>\n",
       "      <td>0.319602</td>\n",
       "      <td>0.128205</td>\n",
       "      <td>0.052632</td>\n",
       "      <td>0.153361</td>\n",
       "      <td>0.943700</td>\n",
       "      <td>0.098765</td>\n",
       "    </tr>\n",
       "  </tbody>\n",
       "</table>\n",
       "</div>"
      ],
      "text/plain": [
       "              r_avg        1b_avg        2b_avg        3b_avg        hr_avg  \\\n",
       "count  12936.000000  12936.000000  12936.000000  12936.000000  12936.000000   \n",
       "mean       0.131785      0.177271      0.050343      0.005697      0.027856   \n",
       "std        0.033729      0.033563      0.015720      0.005885      0.019150   \n",
       "min        0.009091      0.057692      0.000000      0.000000      0.000000   \n",
       "25%        0.108904      0.154541      0.040000      0.000000      0.012850   \n",
       "50%        0.131089      0.176991      0.050000      0.004515      0.025105   \n",
       "75%        0.153614      0.199636      0.060606      0.008489      0.039666   \n",
       "max        0.345845      0.319602      0.128205      0.052632      0.153361   \n",
       "\n",
       "             bb_avg       hbp_avg  \n",
       "count  12936.000000  12936.000000  \n",
       "mean       0.104742      0.009054  \n",
       "std        0.047964      0.008977  \n",
       "min        0.000000      0.000000  \n",
       "25%        0.071274      0.002784  \n",
       "50%        0.097148      0.006993  \n",
       "75%        0.130871      0.012755  \n",
       "max        0.943700      0.098765  "
      ]
     },
     "execution_count": 31,
     "metadata": {},
     "output_type": "execute_result"
    }
   ],
   "source": [
    "# What part of OBP is most important?\n",
    "clean_batting = batting[['r_avg','1b_avg','2b_avg','3b_avg','hr_avg','bb_avg','hbp_avg']].dropna()\n",
    "clean_batting.describe()"
   ]
  },
  {
   "cell_type": "code",
   "execution_count": 32,
   "metadata": {
    "collapsed": true
   },
   "outputs": [],
   "source": [
    "y = clean_batting.pop('r_avg')"
   ]
  },
  {
   "cell_type": "code",
   "execution_count": 33,
   "metadata": {
    "collapsed": true
   },
   "outputs": [],
   "source": [
    "X = clean_batting"
   ]
  },
  {
   "cell_type": "code",
   "execution_count": 34,
   "metadata": {
    "collapsed": true
   },
   "outputs": [],
   "source": [
    "X_train, X_test, y_train, y_test = train_test_split(X, y, random_state=42)"
   ]
  },
  {
   "cell_type": "code",
   "execution_count": 35,
   "metadata": {},
   "outputs": [
    {
     "data": {
      "text/plain": [
       "DecisionTreeRegressor(criterion='mse', max_depth=7, max_features=None,\n",
       "           max_leaf_nodes=112, min_impurity_decrease=0.0,\n",
       "           min_impurity_split=None, min_samples_leaf=1,\n",
       "           min_samples_split=2, min_weight_fraction_leaf=0.0,\n",
       "           presort=False, random_state=42, splitter='best')"
      ]
     },
     "execution_count": 35,
     "metadata": {},
     "output_type": "execute_result"
    }
   ],
   "source": [
    "tree = DecisionTreeRegressor(max_depth=7, max_leaf_nodes=112, random_state=42)\n",
    "tree.fit(X_train,y_train)"
   ]
  },
  {
   "cell_type": "code",
   "execution_count": 36,
   "metadata": {},
   "outputs": [
    {
     "name": "stdout",
     "output_type": "stream",
     "text": [
      "('1b_avg', 0.12174123628549635)\n",
      "('2b_avg', 0.073495933626006288)\n",
      "('3b_avg', 0.16955756378379142)\n",
      "('hr_avg', 0.42955547857826454)\n",
      "('bb_avg', 0.1933259634922658)\n",
      "('hbp_avg', 0.012323824234175764)\n"
     ]
    }
   ],
   "source": [
    "for x in zip(X.columns,tree.feature_importances_):\n",
    "    print(x)"
   ]
  },
  {
   "cell_type": "code",
   "execution_count": 37,
   "metadata": {},
   "outputs": [
    {
     "data": {
      "text/plain": [
       "0.36696099660473097"
      ]
     },
     "execution_count": 37,
     "metadata": {},
     "output_type": "execute_result"
    }
   ],
   "source": [
    "cross_val_score(tree, X_train, y_train, cv=5).mean()"
   ]
  },
  {
   "cell_type": "code",
   "execution_count": 38,
   "metadata": {},
   "outputs": [
    {
     "data": {
      "text/plain": [
       "<matplotlib.text.Text at 0x115d4c048>"
      ]
     },
     "execution_count": 38,
     "metadata": {},
     "output_type": "execute_result"
    },
    {
     "data": {
      "image/png": "[encoded data removed]",
      "text/plain": [
       "<matplotlib.figure.Figure at 0x115d3be10>"
      ]
     },
     "metadata": {},
     "output_type": "display_data"
    }
   ],
   "source": [
    "score = []\n",
    "test_range = np.arange(103,114,1)\n",
    "for nodes in test_range:\n",
    "    tree = DecisionTreeRegressor(max_depth=7,max_leaf_nodes=nodes)\n",
    "    tree.fit(X_train,y_train)\n",
    "    score.append(cross_val_score(tree, X_train, y_train, cv=5).mean())\n",
    "plt.plot(test_range,score)\n",
    "plt.xlabel('max_leaf_nodes')\n",
    "plt.ylabel('r2_score')"
   ]
  }
 ],
 "metadata": {
  "kernelspec": {
   "display_name": "Python 3",
   "language": "python",
   "name": "python3"
  },
  "language_info": {
   "codemirror_mode": {
    "name": "ipython",
    "version": 3
   },
   "file_extension": ".py",
   "mimetype": "text/x-python",
   "name": "python",
   "nbconvert_exporter": "python",
   "pygments_lexer": "ipython3",
   "version": "3.6.3"
  }
 },
 "nbformat": 4,
 "nbformat_minor": 2
}
