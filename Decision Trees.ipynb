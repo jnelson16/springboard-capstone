{
 "cells": [
  {
   "cell_type": "code",
   "execution_count": 1,
   "metadata": {
    "collapsed": true
   },
   "outputs": [],
   "source": [
    "%matplotlib inline\n",
    "import math\n",
    "import pandas as pd\n",
    "import numpy as np\n",
    "import matplotlib.pyplot as plt"
   ]
  },
  {
   "cell_type": "markdown",
   "metadata": {},
   "source": [
    "### What variables are important for teams to win?"
   ]
  },
  {
   "cell_type": "code",
   "execution_count": 2,
   "metadata": {
    "collapsed": true
   },
   "outputs": [],
   "source": [
    "team = pd.read_csv('data/baseball/team.csv')"
   ]
  },
  {
   "cell_type": "code",
   "execution_count": 3,
   "metadata": {},
   "outputs": [
    {
     "name": "stdout",
     "output_type": "stream",
     "text": [
      "<class 'pandas.core.frame.DataFrame'>\n",
      "Int64Index: 888 entries, 1917 to 2804\n",
      "Data columns (total 48 columns):\n",
      "year                888 non-null int64\n",
      "league_id           888 non-null object\n",
      "team_id             888 non-null object\n",
      "franchise_id        888 non-null object\n",
      "div_id              888 non-null object\n",
      "rank                888 non-null int64\n",
      "g                   888 non-null int64\n",
      "ghome               888 non-null float64\n",
      "w                   888 non-null int64\n",
      "l                   888 non-null int64\n",
      "div_win             860 non-null object\n",
      "wc_win              624 non-null object\n",
      "lg_win              860 non-null object\n",
      "ws_win              860 non-null object\n",
      "r                   888 non-null int64\n",
      "ab                  888 non-null int64\n",
      "h                   888 non-null int64\n",
      "double              888 non-null int64\n",
      "triple              888 non-null int64\n",
      "hr                  888 non-null int64\n",
      "bb                  888 non-null int64\n",
      "so                  888 non-null float64\n",
      "sb                  888 non-null float64\n",
      "cs                  888 non-null float64\n",
      "hbp                 480 non-null float64\n",
      "sf                  480 non-null float64\n",
      "ra                  888 non-null int64\n",
      "er                  888 non-null int64\n",
      "era                 888 non-null float64\n",
      "cg                  888 non-null int64\n",
      "sho                 888 non-null int64\n",
      "sv                  888 non-null int64\n",
      "ipouts              888 non-null int64\n",
      "ha                  888 non-null int64\n",
      "hra                 888 non-null int64\n",
      "bba                 888 non-null int64\n",
      "soa                 888 non-null int64\n",
      "e                   888 non-null int64\n",
      "dp                  888 non-null float64\n",
      "fp                  888 non-null float64\n",
      "name                888 non-null object\n",
      "park                888 non-null object\n",
      "attendance          888 non-null float64\n",
      "bpf                 888 non-null int64\n",
      "ppf                 888 non-null int64\n",
      "team_id_br          888 non-null object\n",
      "team_id_lahman45    888 non-null object\n",
      "team_id_retro       888 non-null object\n",
      "dtypes: float64(10), int64(25), object(13)\n",
      "memory usage: 339.9+ KB\n"
     ]
    }
   ],
   "source": [
    "team = team[team.year >= 1985]\n",
    "team.info()"
   ]
  },
  {
   "cell_type": "code",
   "execution_count": 8,
   "metadata": {
    "collapsed": true
   },
   "outputs": [],
   "source": [
    "team['w_pct'] = team.w / 162\n",
    "team['avg'] = team.h / team.ab\n",
    "team['2b_avg'] = team.double / team.ab\n",
    "team['3b_avg'] = team.triple / team.ab\n",
    "team['hr_avg'] = team.hr / team.ab\n",
    "team['r_avg'] = team.r / team.ab\n",
    "team['so_avg'] = team.so / (162*27)\n",
    "team['era_adj'] = team.era / 27\n",
    "team['e_avg'] = team.e / (162*27)"
   ]
  },
  {
   "cell_type": "code",
   "execution_count": 9,
   "metadata": {
    "collapsed": true
   },
   "outputs": [],
   "source": [
    "from sklearn.model_selection import train_test_split"
   ]
  },
  {
   "cell_type": "code",
   "execution_count": 10,
   "metadata": {},
   "outputs": [
    {
     "data": {
      "text/html": [
       "<div>\n",
       "<style>\n",
       "    .dataframe thead tr:only-child th {\n",
       "        text-align: right;\n",
       "    }\n",
       "\n",
       "    .dataframe thead th {\n",
       "        text-align: left;\n",
       "    }\n",
       "\n",
       "    .dataframe tbody tr th {\n",
       "        vertical-align: top;\n",
       "    }\n",
       "</style>\n",
       "<table border=\"1\" class=\"dataframe\">\n",
       "  <thead>\n",
       "    <tr style=\"text-align: right;\">\n",
       "      <th></th>\n",
       "      <th>w_pct</th>\n",
       "      <th>r_avg</th>\n",
       "      <th>avg</th>\n",
       "      <th>so_avg</th>\n",
       "      <th>era_adj</th>\n",
       "      <th>e_avg</th>\n",
       "    </tr>\n",
       "  </thead>\n",
       "  <tbody>\n",
       "    <tr>\n",
       "      <th>count</th>\n",
       "      <td>888.000000</td>\n",
       "      <td>888.000000</td>\n",
       "      <td>888.000000</td>\n",
       "      <td>888.000000</td>\n",
       "      <td>888.000000</td>\n",
       "      <td>888.000000</td>\n",
       "    </tr>\n",
       "    <tr>\n",
       "      <th>mean</th>\n",
       "      <td>0.493278</td>\n",
       "      <td>0.133540</td>\n",
       "      <td>0.261666</td>\n",
       "      <td>0.236956</td>\n",
       "      <td>0.155800</td>\n",
       "      <td>0.025017</td>\n",
       "    </tr>\n",
       "    <tr>\n",
       "      <th>std</th>\n",
       "      <td>0.073345</td>\n",
       "      <td>0.014543</td>\n",
       "      <td>0.011896</td>\n",
       "      <td>0.035185</td>\n",
       "      <td>0.020758</td>\n",
       "      <td>0.004576</td>\n",
       "    </tr>\n",
       "    <tr>\n",
       "      <th>min</th>\n",
       "      <td>0.265432</td>\n",
       "      <td>0.094146</td>\n",
       "      <td>0.226483</td>\n",
       "      <td>0.129858</td>\n",
       "      <td>0.107778</td>\n",
       "      <td>0.012346</td>\n",
       "    </tr>\n",
       "    <tr>\n",
       "      <th>25%</th>\n",
       "      <td>0.442901</td>\n",
       "      <td>0.123301</td>\n",
       "      <td>0.253077</td>\n",
       "      <td>0.211706</td>\n",
       "      <td>0.140370</td>\n",
       "      <td>0.021719</td>\n",
       "    </tr>\n",
       "    <tr>\n",
       "      <th>50%</th>\n",
       "      <td>0.493827</td>\n",
       "      <td>0.132741</td>\n",
       "      <td>0.261446</td>\n",
       "      <td>0.236740</td>\n",
       "      <td>0.154444</td>\n",
       "      <td>0.024691</td>\n",
       "    </tr>\n",
       "    <tr>\n",
       "      <th>75%</th>\n",
       "      <td>0.549383</td>\n",
       "      <td>0.143036</td>\n",
       "      <td>0.269449</td>\n",
       "      <td>0.259088</td>\n",
       "      <td>0.169630</td>\n",
       "      <td>0.028121</td>\n",
       "    </tr>\n",
       "    <tr>\n",
       "      <th>max</th>\n",
       "      <td>0.716049</td>\n",
       "      <td>0.179091</td>\n",
       "      <td>0.293993</td>\n",
       "      <td>0.350937</td>\n",
       "      <td>0.236296</td>\n",
       "      <td>0.040924</td>\n",
       "    </tr>\n",
       "  </tbody>\n",
       "</table>\n",
       "</div>"
      ],
      "text/plain": [
       "            w_pct       r_avg         avg      so_avg     era_adj       e_avg\n",
       "count  888.000000  888.000000  888.000000  888.000000  888.000000  888.000000\n",
       "mean     0.493278    0.133540    0.261666    0.236956    0.155800    0.025017\n",
       "std      0.073345    0.014543    0.011896    0.035185    0.020758    0.004576\n",
       "min      0.265432    0.094146    0.226483    0.129858    0.107778    0.012346\n",
       "25%      0.442901    0.123301    0.253077    0.211706    0.140370    0.021719\n",
       "50%      0.493827    0.132741    0.261446    0.236740    0.154444    0.024691\n",
       "75%      0.549383    0.143036    0.269449    0.259088    0.169630    0.028121\n",
       "max      0.716049    0.179091    0.293993    0.350937    0.236296    0.040924"
      ]
     },
     "execution_count": 10,
     "metadata": {},
     "output_type": "execute_result"
    }
   ],
   "source": [
    "clean = team[['w_pct','r_avg','avg','so_avg','era_adj','e_avg']]\n",
    "clean.describe()"
   ]
  },
  {
   "cell_type": "code",
   "execution_count": 11,
   "metadata": {
    "collapsed": true
   },
   "outputs": [],
   "source": [
    "y = clean.pop('w_pct')"
   ]
  },
  {
   "cell_type": "code",
   "execution_count": 12,
   "metadata": {
    "collapsed": true
   },
   "outputs": [],
   "source": [
    "X = clean"
   ]
  },
  {
   "cell_type": "code",
   "execution_count": 13,
   "metadata": {
    "collapsed": true
   },
   "outputs": [],
   "source": [
    "X_train, X_test, y_train, y_test = train_test_split(X, y, random_state=42)"
   ]
  },
  {
   "cell_type": "code",
   "execution_count": 14,
   "metadata": {
    "collapsed": true
   },
   "outputs": [],
   "source": [
    "from sklearn.tree import DecisionTreeRegressor"
   ]
  },
  {
   "cell_type": "code",
   "execution_count": 15,
   "metadata": {
    "collapsed": true
   },
   "outputs": [],
   "source": [
    "from sklearn.model_selection import cross_val_score\n",
    "from sklearn.metrics import mean_squared_error\n",
    "from sklearn.metrics import r2_score"
   ]
  },
  {
   "cell_type": "code",
   "execution_count": 16,
   "metadata": {},
   "outputs": [
    {
     "data": {
      "text/plain": [
       "DecisionTreeRegressor(criterion='mse', max_depth=6, max_features=None,\n",
       "           max_leaf_nodes=45, min_impurity_decrease=0.0,\n",
       "           min_impurity_split=None, min_samples_leaf=1,\n",
       "           min_samples_split=2, min_weight_fraction_leaf=0.0,\n",
       "           presort=False, random_state=42, splitter='best')"
      ]
     },
     "execution_count": 16,
     "metadata": {},
     "output_type": "execute_result"
    }
   ],
   "source": [
    "tree = DecisionTreeRegressor(max_depth=6, max_leaf_nodes=45, random_state=42)\n",
    "tree.fit(X_train,y_train)"
   ]
  },
  {
   "cell_type": "code",
   "execution_count": 17,
   "metadata": {},
   "outputs": [
    {
     "data": {
      "text/plain": [
       "array([ 0.40175878,  0.0168238 ,  0.10591422,  0.46230688,  0.01319632])"
      ]
     },
     "execution_count": 17,
     "metadata": {},
     "output_type": "execute_result"
    }
   ],
   "source": [
    "tree.feature_importances_"
   ]
  },
  {
   "cell_type": "code",
   "execution_count": 18,
   "metadata": {},
   "outputs": [
    {
     "data": {
      "text/plain": [
       "0.59681904312539347"
      ]
     },
     "execution_count": 18,
     "metadata": {},
     "output_type": "execute_result"
    }
   ],
   "source": [
    "cross_val_score(tree, X_train, y_train, cv=5).mean()"
   ]
  },
  {
   "cell_type": "code",
   "execution_count": 37,
   "metadata": {},
   "outputs": [
    {
     "data": {
      "text/plain": [
       "<matplotlib.text.Text at 0x1a1312ab38>"
      ]
     },
     "execution_count": 37,
     "metadata": {},
     "output_type": "execute_result"
    },
    {
     "data": {
      "image/png": "[encoded data removed]",
      "text/plain": [
       "<matplotlib.figure.Figure at 0x1a12e00710>"
      ]
     },
     "metadata": {},
     "output_type": "display_data"
    }
   ],
   "source": [
    "score = []\n",
    "test_range = np.arange(2,14,1)\n",
    "for depth in test_range:\n",
    "    tree = DecisionTreeRegressor(max_depth=depth)\n",
    "    tree.fit(X_train,y_train)\n",
    "    score.append(cross_val_score(tree, X_train, y_train, cv=5).mean())\n",
    "plt.plot(test_range,score)\n",
    "plt.xlabel('depth')\n",
    "plt.ylabel('r2_score')"
   ]
  },
  {
   "cell_type": "markdown",
   "metadata": {},
   "source": [
    "#### Testing other models"
   ]
  },
  {
   "cell_type": "code",
   "execution_count": 21,
   "metadata": {
    "collapsed": true
   },
   "outputs": [],
   "source": [
    "from sklearn.linear_model import LinearRegression\n",
    "from sklearn.linear_model import LassoCV\n",
    "from sklearn.linear_model import RidgeCV\n",
    "from sklearn.svm import LinearSVR\n",
    "from sklearn.svm import SVR"
   ]
  },
  {
   "cell_type": "code",
   "execution_count": 22,
   "metadata": {},
   "outputs": [
    {
     "data": {
      "text/plain": [
       "0.00095753362674299875"
      ]
     },
     "execution_count": 22,
     "metadata": {},
     "output_type": "execute_result"
    }
   ],
   "source": [
    "lin = LinearRegression()\n",
    "lin.fit(X_train,y_train)\n",
    "results = lin.predict(X_test)\n",
    "mean_squared_error(y_test, results)"
   ]
  },
  {
   "cell_type": "code",
   "execution_count": 23,
   "metadata": {},
   "outputs": [
    {
     "data": {
      "text/plain": [
       "0.75272125766690057"
      ]
     },
     "execution_count": 23,
     "metadata": {},
     "output_type": "execute_result"
    }
   ],
   "source": [
    "cross_val_score(lin, X_train, y_train, cv=5).mean()"
   ]
  },
  {
   "cell_type": "code",
   "execution_count": 24,
   "metadata": {},
   "outputs": [
    {
     "data": {
      "text/plain": [
       "array([ 2.95237731,  1.00862324,  0.44857996, -2.85973586, -0.11309823])"
      ]
     },
     "execution_count": 24,
     "metadata": {},
     "output_type": "execute_result"
    }
   ],
   "source": [
    "lin.coef_"
   ]
  },
  {
   "cell_type": "code",
   "execution_count": 26,
   "metadata": {},
   "outputs": [
    {
     "data": {
      "text/plain": [
       "0.00096634988868937711"
      ]
     },
     "execution_count": 26,
     "metadata": {},
     "output_type": "execute_result"
    }
   ],
   "source": [
    "lscv = LassoCV(eps=0.004)\n",
    "lscv.fit(X_train,y_train)\n",
    "results = lscv.predict(X_test)\n",
    "mean_squared_error(y_test, results)"
   ]
  },
  {
   "cell_type": "code",
   "execution_count": 27,
   "metadata": {},
   "outputs": [
    {
     "data": {
      "text/plain": [
       "0.75244267003500709"
      ]
     },
     "execution_count": 27,
     "metadata": {},
     "output_type": "execute_result"
    }
   ],
   "source": [
    "cross_val_score(lscv, X_train, y_train, cv=5).mean()"
   ]
  },
  {
   "cell_type": "code",
   "execution_count": 28,
   "metadata": {},
   "outputs": [
    {
     "data": {
      "text/plain": [
       "array([ 2.9579522 ,  0.87291588,  0.42571551, -2.81092714, -0.        ])"
      ]
     },
     "execution_count": 28,
     "metadata": {},
     "output_type": "execute_result"
    }
   ],
   "source": [
    "lscv.coef_"
   ]
  },
  {
   "cell_type": "code",
   "execution_count": 29,
   "metadata": {},
   "outputs": [
    {
     "data": {
      "text/plain": [
       "0.00087838989686641873"
      ]
     },
     "execution_count": 29,
     "metadata": {},
     "output_type": "execute_result"
    }
   ],
   "source": [
    "svr = SVR(C=1000,epsilon=0.039)\n",
    "svr.fit(X_train,y_train)\n",
    "results = svr.predict(X_test)\n",
    "mean_squared_error(y_test, results)"
   ]
  },
  {
   "cell_type": "code",
   "execution_count": 30,
   "metadata": {},
   "outputs": [
    {
     "data": {
      "text/plain": [
       "0.79141345039813582"
      ]
     },
     "execution_count": 30,
     "metadata": {},
     "output_type": "execute_result"
    }
   ],
   "source": [
    "cross_val_score(svr, X_train, y_train, cv=5).mean()"
   ]
  },
  {
   "cell_type": "code",
   "execution_count": 38,
   "metadata": {},
   "outputs": [
    {
     "data": {
      "text/plain": [
       "<matplotlib.text.Text at 0x1a1302a5c0>"
      ]
     },
     "execution_count": 38,
     "metadata": {},
     "output_type": "execute_result"
    },
    {
     "data": {
      "image/png": "[encoded data removed]",
      "text/plain": [
       "<matplotlib.figure.Figure at 0x1a131b2e10>"
      ]
     },
     "metadata": {},
     "output_type": "display_data"
    }
   ],
   "source": [
    "score = []\n",
    "test_range = np.arange(0,0.05,0.001)\n",
    "for e in test_range:\n",
    "    svr = SVR(C=1000,epsilon=e)\n",
    "    svr.fit(X_train,y_train)\n",
    "    score.append(cross_val_score(svr, X_train, y_train, cv=5).mean())\n",
    "plt.plot(test_range,score)\n",
    "plt.xlabel('epsilon parameter')\n",
    "plt.ylabel('mean_squared_error')"
   ]
  },
  {
   "cell_type": "code",
   "execution_count": 41,
   "metadata": {},
   "outputs": [
    {
     "data": {
      "text/plain": [
       "<matplotlib.text.Text at 0x1a135a5240>"
      ]
     },
     "execution_count": 41,
     "metadata": {},
     "output_type": "execute_result"
    },
    {
     "data": {
      "image/png": "[encoded data removed]",
      "text/plain": [
       "<matplotlib.figure.Figure at 0x1a13486198>"
      ]
     },
     "metadata": {},
     "output_type": "display_data"
    }
   ],
   "source": [
    "score = []\n",
    "test_range = np.arange(0.001,0.01,0.001)\n",
    "for eps in test_range:\n",
    "    lscv = LassoCV(eps=eps)\n",
    "    lscv.fit(X_train,y_train)\n",
    "    score.append(cross_val_score(lscv, X_train, y_train, cv=5).mean())\n",
    "plt.plot(test_range,score)\n",
    "plt.xlabel('n_alphas')\n",
    "plt.ylabel('mean_squared_error')"
   ]
  },
  {
   "cell_type": "markdown",
   "metadata": {},
   "source": [
    "### What is important for players?"
   ]
  },
  {
   "cell_type": "code",
   "execution_count": 43,
   "metadata": {
    "collapsed": true
   },
   "outputs": [],
   "source": [
    "batting = pd.read_csv('data/baseball/batting.csv')\n",
    "pitching = pd.read_csv('data/baseball/pitching.csv')\n",
    "salary = pd.read_csv('data/baseball/salary.csv')"
   ]
  },
  {
   "cell_type": "code",
   "execution_count": 44,
   "metadata": {
    "collapsed": true
   },
   "outputs": [],
   "source": [
    "batting = batting[(batting.year >= 1985) & (batting.ab > 100)]\n",
    "pitching = pitching[pitching.year >= 1985]"
   ]
  },
  {
   "cell_type": "code",
   "execution_count": 45,
   "metadata": {},
   "outputs": [
    {
     "name": "stdout",
     "output_type": "stream",
     "text": [
      "<class 'pandas.core.frame.DataFrame'>\n",
      "Int64Index: 12936 entries, 62240 to 101330\n",
      "Data columns (total 22 columns):\n",
      "player_id    12936 non-null object\n",
      "year         12936 non-null int64\n",
      "stint        12936 non-null int64\n",
      "team_id      12936 non-null object\n",
      "league_id    12936 non-null object\n",
      "g            12936 non-null int64\n",
      "ab           12936 non-null float64\n",
      "r            12936 non-null float64\n",
      "h            12936 non-null float64\n",
      "double       12936 non-null float64\n",
      "triple       12936 non-null float64\n",
      "hr           12936 non-null float64\n",
      "rbi          12936 non-null float64\n",
      "sb           12936 non-null float64\n",
      "cs           12936 non-null float64\n",
      "bb           12936 non-null float64\n",
      "so           12936 non-null float64\n",
      "ibb          12936 non-null float64\n",
      "hbp          12936 non-null float64\n",
      "sh           12936 non-null float64\n",
      "sf           12936 non-null float64\n",
      "g_idp        12936 non-null float64\n",
      "dtypes: float64(16), int64(3), object(3)\n",
      "memory usage: 2.3+ MB\n"
     ]
    }
   ],
   "source": [
    "batting.info()"
   ]
  },
  {
   "cell_type": "code",
   "execution_count": 46,
   "metadata": {
    "collapsed": true
   },
   "outputs": [],
   "source": [
    "batting['avg'] = batting.h / batting.ab\n",
    "batting['2b_avg'] = batting.double / batting.ab\n",
    "batting['3b_avg'] = batting.triple / batting.ab\n",
    "batting['hr_avg'] = batting.hr / batting.ab\n",
    "batting['r_avg'] = batting.r / batting.ab\n",
    "batting['obp'] = (batting.h + batting.bb + batting.hbp) / (batting.ab + batting.bb + batting.hbp)\n",
    "batting['slug'] = (batting.h + batting.double + batting.triple * 2 + batting.hr * 3) / batting.ab\n",
    "batting['bb_avg'] = batting.bb / batting.ab"
   ]
  },
  {
   "cell_type": "code",
   "execution_count": 47,
   "metadata": {},
   "outputs": [
    {
     "data": {
      "text/html": [
       "<div>\n",
       "<style>\n",
       "    .dataframe thead tr:only-child th {\n",
       "        text-align: right;\n",
       "    }\n",
       "\n",
       "    .dataframe thead th {\n",
       "        text-align: left;\n",
       "    }\n",
       "\n",
       "    .dataframe tbody tr th {\n",
       "        vertical-align: top;\n",
       "    }\n",
       "</style>\n",
       "<table border=\"1\" class=\"dataframe\">\n",
       "  <thead>\n",
       "    <tr style=\"text-align: right;\">\n",
       "      <th></th>\n",
       "      <th>r_avg</th>\n",
       "      <th>avg</th>\n",
       "      <th>obp</th>\n",
       "      <th>slug</th>\n",
       "    </tr>\n",
       "  </thead>\n",
       "  <tbody>\n",
       "    <tr>\n",
       "      <th>count</th>\n",
       "      <td>12936.000000</td>\n",
       "      <td>12936.000000</td>\n",
       "      <td>12936.000000</td>\n",
       "      <td>12936.000000</td>\n",
       "    </tr>\n",
       "    <tr>\n",
       "      <th>mean</th>\n",
       "      <td>0.131785</td>\n",
       "      <td>0.261167</td>\n",
       "      <td>0.330924</td>\n",
       "      <td>0.406472</td>\n",
       "    </tr>\n",
       "    <tr>\n",
       "      <th>std</th>\n",
       "      <td>0.033729</td>\n",
       "      <td>0.034964</td>\n",
       "      <td>0.042251</td>\n",
       "      <td>0.080390</td>\n",
       "    </tr>\n",
       "    <tr>\n",
       "      <th>min</th>\n",
       "      <td>0.009091</td>\n",
       "      <td>0.122642</td>\n",
       "      <td>0.173077</td>\n",
       "      <td>0.158416</td>\n",
       "    </tr>\n",
       "    <tr>\n",
       "      <th>25%</th>\n",
       "      <td>0.108904</td>\n",
       "      <td>0.239256</td>\n",
       "      <td>0.303704</td>\n",
       "      <td>0.350758</td>\n",
       "    </tr>\n",
       "    <tr>\n",
       "      <th>50%</th>\n",
       "      <td>0.131089</td>\n",
       "      <td>0.262032</td>\n",
       "      <td>0.330472</td>\n",
       "      <td>0.401796</td>\n",
       "    </tr>\n",
       "    <tr>\n",
       "      <th>75%</th>\n",
       "      <td>0.153614</td>\n",
       "      <td>0.284647</td>\n",
       "      <td>0.357895</td>\n",
       "      <td>0.457627</td>\n",
       "    </tr>\n",
       "    <tr>\n",
       "      <th>max</th>\n",
       "      <td>0.345845</td>\n",
       "      <td>0.395722</td>\n",
       "      <td>0.612378</td>\n",
       "      <td>0.863445</td>\n",
       "    </tr>\n",
       "  </tbody>\n",
       "</table>\n",
       "</div>"
      ],
      "text/plain": [
       "              r_avg           avg           obp          slug\n",
       "count  12936.000000  12936.000000  12936.000000  12936.000000\n",
       "mean       0.131785      0.261167      0.330924      0.406472\n",
       "std        0.033729      0.034964      0.042251      0.080390\n",
       "min        0.009091      0.122642      0.173077      0.158416\n",
       "25%        0.108904      0.239256      0.303704      0.350758\n",
       "50%        0.131089      0.262032      0.330472      0.401796\n",
       "75%        0.153614      0.284647      0.357895      0.457627\n",
       "max        0.345845      0.395722      0.612378      0.863445"
      ]
     },
     "execution_count": 47,
     "metadata": {},
     "output_type": "execute_result"
    }
   ],
   "source": [
    "### OBP is the most important\n",
    "clean_batting = batting[['r_avg','avg','obp','slug']].dropna()\n",
    "clean_batting.describe()"
   ]
  },
  {
   "cell_type": "code",
   "execution_count": 27,
   "metadata": {},
   "outputs": [
    {
     "data": {
      "text/html": [
       "<div>\n",
       "<style>\n",
       "    .dataframe thead tr:only-child th {\n",
       "        text-align: right;\n",
       "    }\n",
       "\n",
       "    .dataframe thead th {\n",
       "        text-align: left;\n",
       "    }\n",
       "\n",
       "    .dataframe tbody tr th {\n",
       "        vertical-align: top;\n",
       "    }\n",
       "</style>\n",
       "<table border=\"1\" class=\"dataframe\">\n",
       "  <thead>\n",
       "    <tr style=\"text-align: right;\">\n",
       "      <th></th>\n",
       "      <th>r_avg</th>\n",
       "      <th>avg</th>\n",
       "      <th>2b_avg</th>\n",
       "      <th>3b_avg</th>\n",
       "      <th>hr_avg</th>\n",
       "      <th>bb_avg</th>\n",
       "    </tr>\n",
       "  </thead>\n",
       "  <tbody>\n",
       "    <tr>\n",
       "      <th>count</th>\n",
       "      <td>439.000000</td>\n",
       "      <td>439.000000</td>\n",
       "      <td>439.000000</td>\n",
       "      <td>439.000000</td>\n",
       "      <td>439.000000</td>\n",
       "      <td>439.000000</td>\n",
       "    </tr>\n",
       "    <tr>\n",
       "      <th>mean</th>\n",
       "      <td>0.124338</td>\n",
       "      <td>0.254533</td>\n",
       "      <td>0.050761</td>\n",
       "      <td>0.006035</td>\n",
       "      <td>0.029847</td>\n",
       "      <td>0.086219</td>\n",
       "    </tr>\n",
       "    <tr>\n",
       "      <th>std</th>\n",
       "      <td>0.030207</td>\n",
       "      <td>0.034052</td>\n",
       "      <td>0.014138</td>\n",
       "      <td>0.006451</td>\n",
       "      <td>0.018075</td>\n",
       "      <td>0.037831</td>\n",
       "    </tr>\n",
       "    <tr>\n",
       "      <th>min</th>\n",
       "      <td>0.037736</td>\n",
       "      <td>0.145631</td>\n",
       "      <td>0.007463</td>\n",
       "      <td>0.000000</td>\n",
       "      <td>0.000000</td>\n",
       "      <td>0.014085</td>\n",
       "    </tr>\n",
       "    <tr>\n",
       "      <th>25%</th>\n",
       "      <td>0.104934</td>\n",
       "      <td>0.232567</td>\n",
       "      <td>0.041061</td>\n",
       "      <td>0.000000</td>\n",
       "      <td>0.016857</td>\n",
       "      <td>0.060483</td>\n",
       "    </tr>\n",
       "    <tr>\n",
       "      <th>50%</th>\n",
       "      <td>0.124277</td>\n",
       "      <td>0.257991</td>\n",
       "      <td>0.050445</td>\n",
       "      <td>0.004310</td>\n",
       "      <td>0.028112</td>\n",
       "      <td>0.080321</td>\n",
       "    </tr>\n",
       "    <tr>\n",
       "      <th>75%</th>\n",
       "      <td>0.142857</td>\n",
       "      <td>0.278144</td>\n",
       "      <td>0.059258</td>\n",
       "      <td>0.009153</td>\n",
       "      <td>0.040036</td>\n",
       "      <td>0.105409</td>\n",
       "    </tr>\n",
       "    <tr>\n",
       "      <th>max</th>\n",
       "      <td>0.226488</td>\n",
       "      <td>0.337995</td>\n",
       "      <td>0.094421</td>\n",
       "      <td>0.033113</td>\n",
       "      <td>0.099010</td>\n",
       "      <td>0.262385</td>\n",
       "    </tr>\n",
       "  </tbody>\n",
       "</table>\n",
       "</div>"
      ],
      "text/plain": [
       "            r_avg         avg      2b_avg      3b_avg      hr_avg      bb_avg\n",
       "count  439.000000  439.000000  439.000000  439.000000  439.000000  439.000000\n",
       "mean     0.124338    0.254533    0.050761    0.006035    0.029847    0.086219\n",
       "std      0.030207    0.034052    0.014138    0.006451    0.018075    0.037831\n",
       "min      0.037736    0.145631    0.007463    0.000000    0.000000    0.014085\n",
       "25%      0.104934    0.232567    0.041061    0.000000    0.016857    0.060483\n",
       "50%      0.124277    0.257991    0.050445    0.004310    0.028112    0.080321\n",
       "75%      0.142857    0.278144    0.059258    0.009153    0.040036    0.105409\n",
       "max      0.226488    0.337995    0.094421    0.033113    0.099010    0.262385"
      ]
     },
     "execution_count": 27,
     "metadata": {},
     "output_type": "execute_result"
    }
   ],
   "source": [
    "# What part of OBP is most important?\n",
    "clean_batting = batting[['r_avg','avg','2b_avg','3b_avg','hr_avg','bb_avg']].dropna()\n",
    "clean_batting.describe()"
   ]
  },
  {
   "cell_type": "code",
   "execution_count": 48,
   "metadata": {
    "collapsed": true
   },
   "outputs": [],
   "source": [
    "y = clean_batting.pop('r_avg')"
   ]
  },
  {
   "cell_type": "code",
   "execution_count": 49,
   "metadata": {
    "collapsed": true
   },
   "outputs": [],
   "source": [
    "X = clean_batting"
   ]
  },
  {
   "cell_type": "code",
   "execution_count": 50,
   "metadata": {
    "collapsed": true
   },
   "outputs": [],
   "source": [
    "X_train, X_test, y_train, y_test = train_test_split(X, y, random_state=42)"
   ]
  },
  {
   "cell_type": "code",
   "execution_count": 66,
   "metadata": {},
   "outputs": [
    {
     "data": {
      "text/plain": [
       "DecisionTreeRegressor(criterion='mse', max_depth=5, max_features=None,\n",
       "           max_leaf_nodes=23, min_impurity_decrease=0.0,\n",
       "           min_impurity_split=None, min_samples_leaf=1,\n",
       "           min_samples_split=2, min_weight_fraction_leaf=0.0,\n",
       "           presort=False, random_state=42, splitter='best')"
      ]
     },
     "execution_count": 66,
     "metadata": {},
     "output_type": "execute_result"
    }
   ],
   "source": [
    "tree = DecisionTreeRegressor(max_depth=5, max_leaf_nodes=23, random_state=42)\n",
    "tree.fit(X_train,y_train)"
   ]
  },
  {
   "cell_type": "code",
   "execution_count": 67,
   "metadata": {},
   "outputs": [
    {
     "data": {
      "text/plain": [
       "array([ 0.00335609,  0.72663843,  0.27000548])"
      ]
     },
     "execution_count": 67,
     "metadata": {},
     "output_type": "execute_result"
    }
   ],
   "source": [
    "tree.feature_importances_"
   ]
  },
  {
   "cell_type": "code",
   "execution_count": 68,
   "metadata": {},
   "outputs": [
    {
     "data": {
      "text/plain": [
       "0.46216660462275944"
      ]
     },
     "execution_count": 68,
     "metadata": {},
     "output_type": "execute_result"
    }
   ],
   "source": [
    "cross_val_score(tree, X_train, y_train, cv=5).mean()"
   ]
  },
  {
   "cell_type": "code",
   "execution_count": 65,
   "metadata": {},
   "outputs": [
    {
     "data": {
      "text/plain": [
       "<matplotlib.text.Text at 0x1a13a360b8>"
      ]
     },
     "execution_count": 65,
     "metadata": {},
     "output_type": "execute_result"
    },
    {
     "data": {
      "image/png": "[encoded data removed]",
      "text/plain": [
       "<matplotlib.figure.Figure at 0x1a12ad62b0>"
      ]
     },
     "metadata": {},
     "output_type": "display_data"
    }
   ],
   "source": [
    "score = []\n",
    "test_range = np.arange(2,8)\n",
    "for depth in test_range:\n",
    "    tree = DecisionTreeRegressor(max_depth=depth,max_leaf_nodes=23)\n",
    "    tree.fit(X_train,y_train)\n",
    "    score.append(cross_val_score(tree, X_train, y_train, cv=5).mean())\n",
    "plt.plot(test_range,score)\n",
    "plt.xlabel('max_leaf_nodes')\n",
    "plt.ylabel('r2_score')"
   ]
  },
  {
   "cell_type": "code",
   "execution_count": 69,
   "metadata": {},
   "outputs": [
    {
     "ename": "AttributeError",
     "evalue": "'DecisionTreeRegressor' object has no attribute 'estimators_'",
     "output_type": "error",
     "traceback": [
      "\u001b[0;31m---------------------------------------------------------------------------\u001b[0m",
      "\u001b[0;31mAttributeError\u001b[0m                            Traceback (most recent call last)",
      "\u001b[0;32m<ipython-input-69-2b2dc95dfd4d>\u001b[0m in \u001b[0;36m<module>\u001b[0;34m()\u001b[0m\n\u001b[1;32m      1\u001b[0m \u001b[0mimages\u001b[0m \u001b[0;34m=\u001b[0m \u001b[0;34m[\u001b[0m\u001b[0;34m]\u001b[0m\u001b[0;34m\u001b[0m\u001b[0m\n\u001b[0;32m----> 2\u001b[0;31m \u001b[0;32mfor\u001b[0m \u001b[0mc\u001b[0m \u001b[0;32min\u001b[0m \u001b[0mtree\u001b[0m\u001b[0;34m.\u001b[0m\u001b[0mestimators_\u001b[0m\u001b[0;34m:\u001b[0m\u001b[0;34m\u001b[0m\u001b[0m\n\u001b[0m\u001b[1;32m      3\u001b[0m     \u001b[0mdot_data\u001b[0m \u001b[0;34m=\u001b[0m \u001b[0mtree\u001b[0m\u001b[0;34m.\u001b[0m\u001b[0mexport_graphviz\u001b[0m\u001b[0;34m(\u001b[0m\u001b[0mc\u001b[0m\u001b[0;34m,\u001b[0m \u001b[0mout_file\u001b[0m\u001b[0;34m=\u001b[0m\u001b[0;32mNone\u001b[0m\u001b[0;34m)\u001b[0m\u001b[0;34m\u001b[0m\u001b[0m\n\u001b[1;32m      4\u001b[0m     \u001b[0mgraph\u001b[0m \u001b[0;34m=\u001b[0m \u001b[0mpydotplus\u001b[0m\u001b[0;34m.\u001b[0m\u001b[0mgraph_from_dot_data\u001b[0m\u001b[0;34m(\u001b[0m\u001b[0mdot_data\u001b[0m\u001b[0;34m)\u001b[0m\u001b[0;34m\u001b[0m\u001b[0m\n\u001b[1;32m      5\u001b[0m     \u001b[0mimages\u001b[0m\u001b[0;34m.\u001b[0m\u001b[0mappend\u001b[0m\u001b[0;34m(\u001b[0m\u001b[0mImage\u001b[0m\u001b[0;34m(\u001b[0m\u001b[0mgraph\u001b[0m\u001b[0;34m.\u001b[0m\u001b[0mcreate_png\u001b[0m\u001b[0;34m(\u001b[0m\u001b[0;34m)\u001b[0m\u001b[0;34m,\u001b[0m \u001b[0mwidth\u001b[0m\u001b[0;34m=\u001b[0m\u001b[0;36m100\u001b[0m\u001b[0;34m,\u001b[0m \u001b[0mheight\u001b[0m\u001b[0;34m=\u001b[0m\u001b[0;36m100\u001b[0m\u001b[0;34m)\u001b[0m\u001b[0;34m)\u001b[0m\u001b[0;34m\u001b[0m\u001b[0m\n",
      "\u001b[0;31mAttributeError\u001b[0m: 'DecisionTreeRegressor' object has no attribute 'estimators_'"
     ]
    }
   ],
   "source": [
    "images = []\n",
    "for c in tree.estimators_:\n",
    "    dot_data = tree.export_graphviz(c, out_file=None)  \n",
    "    graph = pydotplus.graph_from_dot_data(dot_data)\n",
    "    images.append(Image(graph.create_png(), width=100, height=100))\n",
    "display(*images)"
   ]
  },
  {
   "cell_type": "markdown",
   "metadata": {
    "collapsed": true
   },
   "source": [
    "### Salary"
   ]
  },
  {
   "cell_type": "code",
   "execution_count": 15,
   "metadata": {
    "collapsed": true
   },
   "outputs": [],
   "source": [
    "batting = pd.read_csv('data/baseball/batting.csv')\n",
    "pitching = pd.read_csv('data/baseball/pitching.csv')\n",
    "salary = pd.read_csv('data/baseball/salary.csv')\n",
    "batting = batting[(batting.year == 2015) & (batting.ab > 100)]\n",
    "batting['avg'] = batting.h / batting.ab\n",
    "batting['2b_avg'] = batting.double / batting.ab\n",
    "batting['3b_avg'] = batting.triple / batting.ab\n",
    "batting['hr_avg'] = batting.hr / batting.ab\n",
    "batting['r_avg'] = batting.r / batting.ab\n",
    "batting['obp'] = (batting.h + batting.bb + batting.hbp) / (batting.ab + batting.bb + batting.hbp)\n",
    "batting['slug'] = (batting.h + batting.double + batting.triple * 2 + batting.hr * 3) / batting.ab\n",
    "batting['bb_avg'] = batting.bb / batting.ab\n",
    "batting_salary = salary.merge(batting)"
   ]
  },
  {
   "cell_type": "code",
   "execution_count": 45,
   "metadata": {},
   "outputs": [
    {
     "data": {
      "text/html": [
       "<div>\n",
       "<style>\n",
       "    .dataframe thead tr:only-child th {\n",
       "        text-align: right;\n",
       "    }\n",
       "\n",
       "    .dataframe thead th {\n",
       "        text-align: left;\n",
       "    }\n",
       "\n",
       "    .dataframe tbody tr th {\n",
       "        vertical-align: top;\n",
       "    }\n",
       "</style>\n",
       "<table border=\"1\" class=\"dataframe\">\n",
       "  <thead>\n",
       "    <tr style=\"text-align: right;\">\n",
       "      <th></th>\n",
       "      <th>salary</th>\n",
       "      <th>avg</th>\n",
       "      <th>hr_avg</th>\n",
       "      <th>bb_avg</th>\n",
       "    </tr>\n",
       "  </thead>\n",
       "  <tbody>\n",
       "    <tr>\n",
       "      <th>count</th>\n",
       "      <td>3.410000e+02</td>\n",
       "      <td>341.000000</td>\n",
       "      <td>341.000000</td>\n",
       "      <td>341.000000</td>\n",
       "    </tr>\n",
       "    <tr>\n",
       "      <th>mean</th>\n",
       "      <td>5.430086e+06</td>\n",
       "      <td>0.254320</td>\n",
       "      <td>0.029521</td>\n",
       "      <td>0.087685</td>\n",
       "    </tr>\n",
       "    <tr>\n",
       "      <th>std</th>\n",
       "      <td>6.104767e+06</td>\n",
       "      <td>0.034310</td>\n",
       "      <td>0.017418</td>\n",
       "      <td>0.038336</td>\n",
       "    </tr>\n",
       "    <tr>\n",
       "      <th>min</th>\n",
       "      <td>5.075000e+05</td>\n",
       "      <td>0.145631</td>\n",
       "      <td>0.000000</td>\n",
       "      <td>0.015873</td>\n",
       "    </tr>\n",
       "    <tr>\n",
       "      <th>25%</th>\n",
       "      <td>5.340000e+05</td>\n",
       "      <td>0.231405</td>\n",
       "      <td>0.016892</td>\n",
       "      <td>0.061828</td>\n",
       "    </tr>\n",
       "    <tr>\n",
       "      <th>50%</th>\n",
       "      <td>2.725000e+06</td>\n",
       "      <td>0.257732</td>\n",
       "      <td>0.027972</td>\n",
       "      <td>0.083032</td>\n",
       "    </tr>\n",
       "    <tr>\n",
       "      <th>75%</th>\n",
       "      <td>8.000000e+06</td>\n",
       "      <td>0.278157</td>\n",
       "      <td>0.039877</td>\n",
       "      <td>0.107477</td>\n",
       "    </tr>\n",
       "    <tr>\n",
       "      <th>max</th>\n",
       "      <td>2.500000e+07</td>\n",
       "      <td>0.337995</td>\n",
       "      <td>0.096774</td>\n",
       "      <td>0.262385</td>\n",
       "    </tr>\n",
       "  </tbody>\n",
       "</table>\n",
       "</div>"
      ],
      "text/plain": [
       "             salary         avg      hr_avg      bb_avg\n",
       "count  3.410000e+02  341.000000  341.000000  341.000000\n",
       "mean   5.430086e+06    0.254320    0.029521    0.087685\n",
       "std    6.104767e+06    0.034310    0.017418    0.038336\n",
       "min    5.075000e+05    0.145631    0.000000    0.015873\n",
       "25%    5.340000e+05    0.231405    0.016892    0.061828\n",
       "50%    2.725000e+06    0.257732    0.027972    0.083032\n",
       "75%    8.000000e+06    0.278157    0.039877    0.107477\n",
       "max    2.500000e+07    0.337995    0.096774    0.262385"
      ]
     },
     "execution_count": 45,
     "metadata": {},
     "output_type": "execute_result"
    }
   ],
   "source": [
    "clean_batting = batting_salary[['salary','avg','hr_avg','bb_avg']].dropna()\n",
    "clean_batting.describe()"
   ]
  },
  {
   "cell_type": "code",
   "execution_count": 46,
   "metadata": {
    "collapsed": true
   },
   "outputs": [],
   "source": [
    "y = clean_batting.pop('salary')"
   ]
  },
  {
   "cell_type": "code",
   "execution_count": 47,
   "metadata": {
    "collapsed": true
   },
   "outputs": [],
   "source": [
    "X = clean_batting"
   ]
  },
  {
   "cell_type": "code",
   "execution_count": 23,
   "metadata": {
    "collapsed": true
   },
   "outputs": [],
   "source": [
    "X_train, X_test, y_train, y_test = train_test_split(X, y, random_state=42)"
   ]
  },
  {
   "cell_type": "code",
   "execution_count": 33,
   "metadata": {},
   "outputs": [
    {
     "name": "stderr",
     "output_type": "stream",
     "text": [
      "/Users/jnelson/anaconda3/lib/python3.6/site-packages/statsmodels/compat/pandas.py:56: FutureWarning: The pandas.core.datetools module is deprecated and will be removed in a future version. Please use the pandas.tseries module instead.\n",
      "  from pandas.core import datetools\n"
     ]
    }
   ],
   "source": [
    "import statsmodels.api as sm\n",
    "import statsmodels.formula.api as smf"
   ]
  },
  {
   "cell_type": "code",
   "execution_count": 48,
   "metadata": {},
   "outputs": [
    {
     "name": "stdout",
     "output_type": "stream",
     "text": [
      "                            OLS Regression Results                            \n",
      "==============================================================================\n",
      "Dep. Variable:                 salary   R-squared:                       0.102\n",
      "Model:                            OLS   Adj. R-squared:                  0.094\n",
      "Method:                 Least Squares   F-statistic:                     12.70\n",
      "Date:                Thu, 16 Nov 2017   Prob (F-statistic):           6.96e-08\n",
      "Time:                        15:31:18   Log-Likelihood:                -554.24\n",
      "No. Observations:                 341   AIC:                             1116.\n",
      "Df Residuals:                     337   BIC:                             1132.\n",
      "Df Model:                           3                                         \n",
      "Covariance Type:            nonrobust                                         \n",
      "==============================================================================\n",
      "                 coef    std err          t      P>|t|      [0.025      0.975]\n",
      "------------------------------------------------------------------------------\n",
      "const         12.5835      0.521     24.146      0.000      11.558      13.609\n",
      "avg            5.2568      1.967      2.672      0.008       1.387       9.127\n",
      "hr_avg        12.6774      4.190      3.026      0.003       4.436      20.918\n",
      "bb_avg         5.4719      1.892      2.892      0.004       1.750       9.193\n",
      "==============================================================================\n",
      "Omnibus:                      164.925   Durbin-Watson:                   1.987\n",
      "Prob(Omnibus):                  0.000   Jarque-Bera (JB):               19.701\n",
      "Skew:                           0.034   Prob(JB):                     5.27e-05\n",
      "Kurtosis:                       1.824   Cond. No.                         66.1\n",
      "==============================================================================\n",
      "\n",
      "Warnings:\n",
      "[1] Standard Errors assume that the covariance matrix of the errors is correctly specified.\n"
     ]
    }
   ],
   "source": [
    "y = np.log(y)\n",
    "X = sm.add_constant(X)\n",
    "results = smf.OLS(y, X).fit()\n",
    "print(results.summary())"
   ]
  },
  {
   "cell_type": "code",
   "execution_count": null,
   "metadata": {
    "collapsed": true
   },
   "outputs": [],
   "source": []
  },
  {
   "cell_type": "code",
   "execution_count": 25,
   "metadata": {},
   "outputs": [
    {
     "data": {
      "text/plain": [
       "array([ 0.10033528,  0.12938248,  0.11355568,  0.28512085,  0.17871328,\n",
       "        0.19289243])"
      ]
     },
     "execution_count": 25,
     "metadata": {},
     "output_type": "execute_result"
    }
   ],
   "source": [
    "tree.feature_importances_"
   ]
  },
  {
   "cell_type": "code",
   "execution_count": null,
   "metadata": {
    "collapsed": true
   },
   "outputs": [],
   "source": []
  }
 ],
 "metadata": {
  "kernelspec": {
   "display_name": "Python 3",
   "language": "python",
   "name": "python3"
  },
  "language_info": {
   "codemirror_mode": {
    "name": "ipython",
    "version": 3
   },
   "file_extension": ".py",
   "mimetype": "text/x-python",
   "name": "python",
   "nbconvert_exporter": "python",
   "pygments_lexer": "ipython3",
   "version": "3.6.3"
  }
 },
 "nbformat": 4,
 "nbformat_minor": 2
}
